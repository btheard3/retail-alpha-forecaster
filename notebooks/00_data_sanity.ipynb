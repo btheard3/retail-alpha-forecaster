{
 "cells": [
  {
   "cell_type": "markdown",
   "id": "a5eede6d",
   "metadata": {},
   "source": [
    "Notebook 0 — Data Sanity & Project Setup\n",
    "Purpose\n",
    "\n",
    "Confirm BigQuery connectivity and credentials.\n",
    "\n",
    "Inspect table schemas & nulls.\n",
    "\n",
    "Establish true date bounds of the dataset.\n",
    "\n",
    "Identify valid (shop_id, item_id) pairs and their coverage."
   ]
  },
  {
   "cell_type": "code",
   "execution_count": 1,
   "id": "99f574f0",
   "metadata": {},
   "outputs": [
    {
     "name": "stdout",
     "output_type": "stream",
     "text": [
      "Python: /home/btheard/retail-alpha-forecaster/.venv/bin/python\n",
      "CWD   : /home/btheard/retail-alpha-forecaster/notebooks\n"
     ]
    }
   ],
   "source": [
    "# --- Cell 1: imports & runtime info ---\n",
    "from pathlib import Path\n",
    "import os, sys\n",
    "import pandas as pd\n",
    "\n",
    "from google.cloud import bigquery\n",
    "from google.oauth2 import service_account\n",
    "\n",
    "print(\"Python:\", sys.executable)\n",
    "print(\"CWD   :\", Path.cwd())"
   ]
  },
  {
   "cell_type": "code",
   "execution_count": 2,
   "id": "3775e46e",
   "metadata": {},
   "outputs": [
    {
     "name": "stdout",
     "output_type": "stream",
     "text": [
      "Using key file: /home/btheard/retail-alpha-forecaster/keys/retail-alpha-forecaster-7f14a7b50e62.json\n",
      "✅ BigQuery client ready\n"
     ]
    }
   ],
   "source": [
    "# --- Cell 2: config (edit only if names differ) ---\n",
    "\n",
    "PROJECT = \"retail-alpha-forecaster\"\n",
    "DATASET = \"raf\"\n",
    "FC_TABLE = f\"`{PROJECT}.{DATASET}.forecasts`\"     # model outputs (from NB 3)\n",
    "BK_TABLE = f\"`{PROJECT}.{DATASET}.backtests`\"    # backtest outputs (from NB 4)\n",
    "\n",
    "# Try to resolve SA key in a notebook-safe way.\n",
    "# Adjust the filename if yours differs.\n",
    "CANDIDATE_PATHS = [\n",
    "    Path.cwd() / \"keys\" / \"retail-alpha-forecaster-7f14a7b50e62.json\",\n",
    "    Path.cwd().parents[0] / \"keys\" / \"retail-alpha-forecaster-7f14a7b50e62.json\",\n",
    "    Path.home() / \"retail-alpha-forecaster\" / \"keys\" / \"retail-alpha-forecaster-7f14a7b50e62.json\",\n",
    "]\n",
    "\n",
    "KEY_PATH = next((p for p in CANDIDATE_PATHS if p.exists()), None)\n",
    "\n",
    "# If you prefer env var style, set GOOGLE_APPLICATION_CREDENTIALS and skip KEY_PATH logic.\n",
    "ENV_CRED = os.getenv(\"GOOGLE_APPLICATION_CREDENTIALS\")\n",
    "\n",
    "if KEY_PATH:\n",
    "    print(\"Using key file:\", KEY_PATH)\n",
    "    creds = service_account.Credentials.from_service_account_file(str(KEY_PATH))\n",
    "elif ENV_CRED and Path(ENV_CRED).exists():\n",
    "    print(\"Using env GOOGLE_APPLICATION_CREDENTIALS:\", ENV_CRED)\n",
    "    creds = service_account.Credentials.from_service_account_file(ENV_CRED)\n",
    "else:\n",
    "    raise FileNotFoundError(\n",
    "        \"Service account key not found. Put it in ./keys/ or set GOOGLE_APPLICATION_CREDENTIALS.\"\n",
    "    )\n",
    "\n",
    "# Create BigQuery client (set your location if needed)\n",
    "client = bigquery.Client(project=PROJECT, credentials=creds, location=\"US\")\n",
    "client.query(\"SELECT 1\").result()\n",
    "print(\"✅ BigQuery client ready\")"
   ]
  },
  {
   "cell_type": "code",
   "execution_count": 3,
   "id": "58c2f703",
   "metadata": {},
   "outputs": [],
   "source": [
    "# --- Cell 3: query helper ---\n",
    "def q(sql: str) -> pd.DataFrame:\n",
    "    \"\"\"Run a SQL statement and return a pandas DataFrame.\"\"\"\n",
    "    job = client.query(sql)\n",
    "    return job.result().to_dataframe()"
   ]
  },
  {
   "cell_type": "code",
   "execution_count": 4,
   "id": "f3d15512",
   "metadata": {},
   "outputs": [
    {
     "name": "stdout",
     "output_type": "stream",
     "text": [
      "Table: `retail-alpha-forecaster.raf.forecasts`\n"
     ]
    },
    {
     "data": {
      "application/vnd.microsoft.datawrangler.viewer.v0+json": {
       "columns": [
        {
         "name": "index",
         "rawType": "int64",
         "type": "integer"
        },
        {
         "name": "n_rows",
         "rawType": "Int64",
         "type": "integer"
        },
        {
         "name": "min_date",
         "rawType": "dbdate",
         "type": "unknown"
        },
        {
         "name": "max_date",
         "rawType": "dbdate",
         "type": "unknown"
        },
        {
         "name": "null_shop_rows",
         "rawType": "Int64",
         "type": "integer"
        },
        {
         "name": "null_item_rows",
         "rawType": "Int64",
         "type": "integer"
        }
       ],
       "ref": "877c38be-28ed-49f0-8b88-6019cb8725bf",
       "rows": [
        [
         "0",
         "25374",
         "2015-10-01",
         "2015-10-31",
         "0",
         "0"
        ]
       ],
       "shape": {
        "columns": 5,
        "rows": 1
       }
      },
      "text/html": [
       "<div>\n",
       "<style scoped>\n",
       "    .dataframe tbody tr th:only-of-type {\n",
       "        vertical-align: middle;\n",
       "    }\n",
       "\n",
       "    .dataframe tbody tr th {\n",
       "        vertical-align: top;\n",
       "    }\n",
       "\n",
       "    .dataframe thead th {\n",
       "        text-align: right;\n",
       "    }\n",
       "</style>\n",
       "<table border=\"1\" class=\"dataframe\">\n",
       "  <thead>\n",
       "    <tr style=\"text-align: right;\">\n",
       "      <th></th>\n",
       "      <th>n_rows</th>\n",
       "      <th>min_date</th>\n",
       "      <th>max_date</th>\n",
       "      <th>null_shop_rows</th>\n",
       "      <th>null_item_rows</th>\n",
       "    </tr>\n",
       "  </thead>\n",
       "  <tbody>\n",
       "    <tr>\n",
       "      <th>0</th>\n",
       "      <td>25374</td>\n",
       "      <td>2015-10-01</td>\n",
       "      <td>2015-10-31</td>\n",
       "      <td>0</td>\n",
       "      <td>0</td>\n",
       "    </tr>\n",
       "  </tbody>\n",
       "</table>\n",
       "</div>"
      ],
      "text/plain": [
       "   n_rows    min_date    max_date  null_shop_rows  null_item_rows\n",
       "0   25374  2015-10-01  2015-10-31               0               0"
      ]
     },
     "execution_count": 4,
     "metadata": {},
     "output_type": "execute_result"
    }
   ],
   "source": [
    "# --- Cell 4: health checks ---\n",
    "print(\"Table:\", FC_TABLE)\n",
    "\n",
    "df_meta = q(f\"\"\"\n",
    "SELECT\n",
    "  COUNT(*)                         AS n_rows,\n",
    "  MIN(date)                        AS min_date,\n",
    "  MAX(date)                        AS max_date,\n",
    "  COUNTIF(shop_id IS NULL)         AS null_shop_rows,\n",
    "  COUNTIF(item_id IS NULL)         AS null_item_rows\n",
    "FROM {FC_TABLE}\n",
    "\"\"\")\n",
    "df_meta\n",
    "\n"
   ]
  },
  {
   "cell_type": "code",
   "execution_count": 5,
   "id": "83a374e0",
   "metadata": {},
   "outputs": [
    {
     "data": {
      "application/vnd.microsoft.datawrangler.viewer.v0+json": {
       "columns": [
        {
         "name": "index",
         "rawType": "int64",
         "type": "integer"
        },
        {
         "name": "n_rows",
         "rawType": "Int64",
         "type": "integer"
        },
        {
         "name": "null_shop_rows",
         "rawType": "Int64",
         "type": "integer"
        },
        {
         "name": "null_item_rows",
         "rawType": "Int64",
         "type": "integer"
        },
        {
         "name": "min_date",
         "rawType": "dbdate",
         "type": "unknown"
        },
        {
         "name": "max_date",
         "rawType": "dbdate",
         "type": "unknown"
        },
        {
         "name": "n_shops",
         "rawType": "Int64",
         "type": "integer"
        },
        {
         "name": "n_items",
         "rawType": "Int64",
         "type": "integer"
        },
        {
         "name": "n_pairs",
         "rawType": "Int64",
         "type": "integer"
        }
       ],
       "ref": "e75ce836-5011-4345-b171-a1f16b52d89a",
       "rows": [
        [
         "0",
         "25374",
         "0",
         "0",
         "2015-10-01",
         "2015-10-31",
         "41",
         "1374",
         "4996"
        ]
       ],
       "shape": {
        "columns": 8,
        "rows": 1
       }
      },
      "text/html": [
       "<div>\n",
       "<style scoped>\n",
       "    .dataframe tbody tr th:only-of-type {\n",
       "        vertical-align: middle;\n",
       "    }\n",
       "\n",
       "    .dataframe tbody tr th {\n",
       "        vertical-align: top;\n",
       "    }\n",
       "\n",
       "    .dataframe thead th {\n",
       "        text-align: right;\n",
       "    }\n",
       "</style>\n",
       "<table border=\"1\" class=\"dataframe\">\n",
       "  <thead>\n",
       "    <tr style=\"text-align: right;\">\n",
       "      <th></th>\n",
       "      <th>n_rows</th>\n",
       "      <th>null_shop_rows</th>\n",
       "      <th>null_item_rows</th>\n",
       "      <th>min_date</th>\n",
       "      <th>max_date</th>\n",
       "      <th>n_shops</th>\n",
       "      <th>n_items</th>\n",
       "      <th>n_pairs</th>\n",
       "    </tr>\n",
       "  </thead>\n",
       "  <tbody>\n",
       "    <tr>\n",
       "      <th>0</th>\n",
       "      <td>25374</td>\n",
       "      <td>0</td>\n",
       "      <td>0</td>\n",
       "      <td>2015-10-01</td>\n",
       "      <td>2015-10-31</td>\n",
       "      <td>41</td>\n",
       "      <td>1374</td>\n",
       "      <td>4996</td>\n",
       "    </tr>\n",
       "  </tbody>\n",
       "</table>\n",
       "</div>"
      ],
      "text/plain": [
       "   n_rows  null_shop_rows  null_item_rows    min_date    max_date  n_shops  \\\n",
       "0   25374               0               0  2015-10-01  2015-10-31       41   \n",
       "\n",
       "   n_items  n_pairs  \n",
       "0     1374     4996  "
      ]
     },
     "execution_count": 5,
     "metadata": {},
     "output_type": "execute_result"
    }
   ],
   "source": [
    "# --- Cell 5: coverage summary (non-null shop & item) ---\n",
    "q(f\"\"\"\n",
    "SELECT\n",
    "  COUNT(*)                                                 AS n_rows,\n",
    "  COUNTIF(shop_id IS NULL)                                 AS null_shop_rows,\n",
    "  COUNTIF(item_id IS NULL)                                 AS null_item_rows,\n",
    "  MIN(date)                                                AS min_date,\n",
    "  MAX(date)                                                AS max_date,\n",
    "  COUNT(DISTINCT shop_id)                                  AS n_shops,\n",
    "  COUNT(DISTINCT item_id)                                  AS n_items,\n",
    "  COUNT(DISTINCT CONCAT(CAST(shop_id AS STRING),':',CAST(item_id AS STRING))) AS n_pairs\n",
    "FROM {FC_TABLE}\n",
    "WHERE shop_id IS NOT NULL AND item_id IS NOT NULL\n",
    "\"\"\")\n",
    "\n"
   ]
  },
  {
   "cell_type": "code",
   "execution_count": 6,
   "id": "fba01270",
   "metadata": {},
   "outputs": [
    {
     "data": {
      "application/vnd.microsoft.datawrangler.viewer.v0+json": {
       "columns": [
        {
         "name": "index",
         "rawType": "int64",
         "type": "integer"
        },
        {
         "name": "shop_id",
         "rawType": "Int64",
         "type": "integer"
        },
        {
         "name": "item_id",
         "rawType": "Int64",
         "type": "integer"
        },
        {
         "name": "n_rows",
         "rawType": "Int64",
         "type": "integer"
        }
       ],
       "ref": "eab880d8-a5c8-4002-9079-f04873170afd",
       "rows": [
        [
         "0",
         "25",
         "20949",
         "62"
        ],
        [
         "1",
         "31",
         "20949",
         "62"
        ],
        [
         "2",
         "42",
         "20949",
         "62"
        ],
        [
         "3",
         "26",
         "20949",
         "60"
        ],
        [
         "4",
         "28",
         "20949",
         "60"
        ],
        [
         "5",
         "47",
         "20949",
         "60"
        ],
        [
         "6",
         "57",
         "20949",
         "60"
        ],
        [
         "7",
         "21",
         "20949",
         "58"
        ],
        [
         "8",
         "39",
         "20949",
         "58"
        ],
        [
         "9",
         "55",
         "13097",
         "58"
        ]
       ],
       "shape": {
        "columns": 3,
        "rows": 10
       }
      },
      "text/html": [
       "<div>\n",
       "<style scoped>\n",
       "    .dataframe tbody tr th:only-of-type {\n",
       "        vertical-align: middle;\n",
       "    }\n",
       "\n",
       "    .dataframe tbody tr th {\n",
       "        vertical-align: top;\n",
       "    }\n",
       "\n",
       "    .dataframe thead th {\n",
       "        text-align: right;\n",
       "    }\n",
       "</style>\n",
       "<table border=\"1\" class=\"dataframe\">\n",
       "  <thead>\n",
       "    <tr style=\"text-align: right;\">\n",
       "      <th></th>\n",
       "      <th>shop_id</th>\n",
       "      <th>item_id</th>\n",
       "      <th>n_rows</th>\n",
       "    </tr>\n",
       "  </thead>\n",
       "  <tbody>\n",
       "    <tr>\n",
       "      <th>0</th>\n",
       "      <td>25</td>\n",
       "      <td>20949</td>\n",
       "      <td>62</td>\n",
       "    </tr>\n",
       "    <tr>\n",
       "      <th>1</th>\n",
       "      <td>31</td>\n",
       "      <td>20949</td>\n",
       "      <td>62</td>\n",
       "    </tr>\n",
       "    <tr>\n",
       "      <th>2</th>\n",
       "      <td>42</td>\n",
       "      <td>20949</td>\n",
       "      <td>62</td>\n",
       "    </tr>\n",
       "    <tr>\n",
       "      <th>3</th>\n",
       "      <td>26</td>\n",
       "      <td>20949</td>\n",
       "      <td>60</td>\n",
       "    </tr>\n",
       "    <tr>\n",
       "      <th>4</th>\n",
       "      <td>28</td>\n",
       "      <td>20949</td>\n",
       "      <td>60</td>\n",
       "    </tr>\n",
       "    <tr>\n",
       "      <th>5</th>\n",
       "      <td>47</td>\n",
       "      <td>20949</td>\n",
       "      <td>60</td>\n",
       "    </tr>\n",
       "    <tr>\n",
       "      <th>6</th>\n",
       "      <td>57</td>\n",
       "      <td>20949</td>\n",
       "      <td>60</td>\n",
       "    </tr>\n",
       "    <tr>\n",
       "      <th>7</th>\n",
       "      <td>21</td>\n",
       "      <td>20949</td>\n",
       "      <td>58</td>\n",
       "    </tr>\n",
       "    <tr>\n",
       "      <th>8</th>\n",
       "      <td>39</td>\n",
       "      <td>20949</td>\n",
       "      <td>58</td>\n",
       "    </tr>\n",
       "    <tr>\n",
       "      <th>9</th>\n",
       "      <td>55</td>\n",
       "      <td>13097</td>\n",
       "      <td>58</td>\n",
       "    </tr>\n",
       "  </tbody>\n",
       "</table>\n",
       "</div>"
      ],
      "text/plain": [
       "   shop_id  item_id  n_rows\n",
       "0       25    20949      62\n",
       "1       31    20949      62\n",
       "2       42    20949      62\n",
       "3       26    20949      60\n",
       "4       28    20949      60\n",
       "5       47    20949      60\n",
       "6       57    20949      60\n",
       "7       21    20949      58\n",
       "8       39    20949      58\n",
       "9       55    13097      58"
      ]
     },
     "execution_count": 6,
     "metadata": {},
     "output_type": "execute_result"
    }
   ],
   "source": [
    "# --- Cell 6: pairs & windows (drives app dropdowns & date-pickers) ---\n",
    "\n",
    "pairs = q(f\"\"\"\n",
    "SELECT shop_id, item_id, COUNT(*) AS n_rows\n",
    "FROM {FC_TABLE}\n",
    "WHERE shop_id IS NOT NULL AND item_id IS NOT NULL\n",
    "GROUP BY shop_id, item_id\n",
    "ORDER BY n_rows DESC\n",
    "\"\"\")\n",
    "pairs.head(10)"
   ]
  },
  {
   "cell_type": "code",
   "execution_count": 7,
   "id": "6b26e929",
   "metadata": {},
   "outputs": [
    {
     "data": {
      "application/vnd.microsoft.datawrangler.viewer.v0+json": {
       "columns": [
        {
         "name": "index",
         "rawType": "int64",
         "type": "integer"
        },
        {
         "name": "shop_id",
         "rawType": "Int64",
         "type": "integer"
        },
        {
         "name": "item_id",
         "rawType": "Int64",
         "type": "integer"
        },
        {
         "name": "min_date",
         "rawType": "dbdate",
         "type": "unknown"
        },
        {
         "name": "max_date",
         "rawType": "dbdate",
         "type": "unknown"
        },
        {
         "name": "n_rows",
         "rawType": "Int64",
         "type": "integer"
        }
       ],
       "ref": "19403d9e-abc0-4c5e-b628-8c46329bc238",
       "rows": [
        [
         "0",
         "25",
         "20949",
         "2015-10-01",
         "2015-10-31",
         "62"
        ],
        [
         "1",
         "31",
         "20949",
         "2015-10-01",
         "2015-10-31",
         "62"
        ],
        [
         "2",
         "42",
         "20949",
         "2015-10-01",
         "2015-10-31",
         "62"
        ],
        [
         "3",
         "26",
         "20949",
         "2015-10-01",
         "2015-10-31",
         "60"
        ],
        [
         "4",
         "28",
         "20949",
         "2015-10-01",
         "2015-10-31",
         "60"
        ],
        [
         "5",
         "47",
         "20949",
         "2015-10-01",
         "2015-10-31",
         "60"
        ],
        [
         "6",
         "57",
         "20949",
         "2015-10-01",
         "2015-10-31",
         "60"
        ],
        [
         "7",
         "21",
         "20949",
         "2015-10-01",
         "2015-10-31",
         "58"
        ],
        [
         "8",
         "39",
         "20949",
         "2015-10-01",
         "2015-10-31",
         "58"
        ],
        [
         "9",
         "55",
         "13097",
         "2015-10-02",
         "2015-10-31",
         "58"
        ]
       ],
       "shape": {
        "columns": 5,
        "rows": 10
       }
      },
      "text/html": [
       "<div>\n",
       "<style scoped>\n",
       "    .dataframe tbody tr th:only-of-type {\n",
       "        vertical-align: middle;\n",
       "    }\n",
       "\n",
       "    .dataframe tbody tr th {\n",
       "        vertical-align: top;\n",
       "    }\n",
       "\n",
       "    .dataframe thead th {\n",
       "        text-align: right;\n",
       "    }\n",
       "</style>\n",
       "<table border=\"1\" class=\"dataframe\">\n",
       "  <thead>\n",
       "    <tr style=\"text-align: right;\">\n",
       "      <th></th>\n",
       "      <th>shop_id</th>\n",
       "      <th>item_id</th>\n",
       "      <th>min_date</th>\n",
       "      <th>max_date</th>\n",
       "      <th>n_rows</th>\n",
       "    </tr>\n",
       "  </thead>\n",
       "  <tbody>\n",
       "    <tr>\n",
       "      <th>0</th>\n",
       "      <td>25</td>\n",
       "      <td>20949</td>\n",
       "      <td>2015-10-01</td>\n",
       "      <td>2015-10-31</td>\n",
       "      <td>62</td>\n",
       "    </tr>\n",
       "    <tr>\n",
       "      <th>1</th>\n",
       "      <td>31</td>\n",
       "      <td>20949</td>\n",
       "      <td>2015-10-01</td>\n",
       "      <td>2015-10-31</td>\n",
       "      <td>62</td>\n",
       "    </tr>\n",
       "    <tr>\n",
       "      <th>2</th>\n",
       "      <td>42</td>\n",
       "      <td>20949</td>\n",
       "      <td>2015-10-01</td>\n",
       "      <td>2015-10-31</td>\n",
       "      <td>62</td>\n",
       "    </tr>\n",
       "    <tr>\n",
       "      <th>3</th>\n",
       "      <td>26</td>\n",
       "      <td>20949</td>\n",
       "      <td>2015-10-01</td>\n",
       "      <td>2015-10-31</td>\n",
       "      <td>60</td>\n",
       "    </tr>\n",
       "    <tr>\n",
       "      <th>4</th>\n",
       "      <td>28</td>\n",
       "      <td>20949</td>\n",
       "      <td>2015-10-01</td>\n",
       "      <td>2015-10-31</td>\n",
       "      <td>60</td>\n",
       "    </tr>\n",
       "    <tr>\n",
       "      <th>5</th>\n",
       "      <td>47</td>\n",
       "      <td>20949</td>\n",
       "      <td>2015-10-01</td>\n",
       "      <td>2015-10-31</td>\n",
       "      <td>60</td>\n",
       "    </tr>\n",
       "    <tr>\n",
       "      <th>6</th>\n",
       "      <td>57</td>\n",
       "      <td>20949</td>\n",
       "      <td>2015-10-01</td>\n",
       "      <td>2015-10-31</td>\n",
       "      <td>60</td>\n",
       "    </tr>\n",
       "    <tr>\n",
       "      <th>7</th>\n",
       "      <td>21</td>\n",
       "      <td>20949</td>\n",
       "      <td>2015-10-01</td>\n",
       "      <td>2015-10-31</td>\n",
       "      <td>58</td>\n",
       "    </tr>\n",
       "    <tr>\n",
       "      <th>8</th>\n",
       "      <td>39</td>\n",
       "      <td>20949</td>\n",
       "      <td>2015-10-01</td>\n",
       "      <td>2015-10-31</td>\n",
       "      <td>58</td>\n",
       "    </tr>\n",
       "    <tr>\n",
       "      <th>9</th>\n",
       "      <td>55</td>\n",
       "      <td>13097</td>\n",
       "      <td>2015-10-02</td>\n",
       "      <td>2015-10-31</td>\n",
       "      <td>58</td>\n",
       "    </tr>\n",
       "  </tbody>\n",
       "</table>\n",
       "</div>"
      ],
      "text/plain": [
       "   shop_id  item_id    min_date    max_date  n_rows\n",
       "0       25    20949  2015-10-01  2015-10-31      62\n",
       "1       31    20949  2015-10-01  2015-10-31      62\n",
       "2       42    20949  2015-10-01  2015-10-31      62\n",
       "3       26    20949  2015-10-01  2015-10-31      60\n",
       "4       28    20949  2015-10-01  2015-10-31      60\n",
       "5       47    20949  2015-10-01  2015-10-31      60\n",
       "6       57    20949  2015-10-01  2015-10-31      60\n",
       "7       21    20949  2015-10-01  2015-10-31      58\n",
       "8       39    20949  2015-10-01  2015-10-31      58\n",
       "9       55    13097  2015-10-02  2015-10-31      58"
      ]
     },
     "execution_count": 7,
     "metadata": {},
     "output_type": "execute_result"
    }
   ],
   "source": [
    "# --- Cell 6b: min/max window per pair ---\n",
    "pair_windows = q(f\"\"\"\n",
    "SELECT\n",
    "  shop_id,\n",
    "  item_id,\n",
    "  MIN(date) AS min_date,\n",
    "  MAX(date) AS max_date,\n",
    "  COUNT(*)  AS n_rows\n",
    "FROM {FC_TABLE}\n",
    "WHERE shop_id IS NOT NULL AND item_id IS NOT NULL\n",
    "GROUP BY shop_id, item_id\n",
    "ORDER BY n_rows DESC\n",
    "\"\"\")\n",
    "pair_windows.head(10)\n"
   ]
  },
  {
   "cell_type": "code",
   "execution_count": 8,
   "id": "bcd8538a",
   "metadata": {},
   "outputs": [
    {
     "data": {
      "application/vnd.microsoft.datawrangler.viewer.v0+json": {
       "columns": [
        {
         "name": "index",
         "rawType": "int64",
         "type": "integer"
        },
        {
         "name": "null_yhat",
         "rawType": "Int64",
         "type": "integer"
        },
        {
         "name": "neg_yhat",
         "rawType": "Int64",
         "type": "integer"
        },
        {
         "name": "swapped_bands",
         "rawType": "Int64",
         "type": "integer"
        },
        {
         "name": "n_days",
         "rawType": "Int64",
         "type": "integer"
        }
       ],
       "ref": "34a65e6d-44fb-4d70-ba8c-1b94889d36a0",
       "rows": [
        [
         "0",
         "0",
         "4",
         "0",
         "31"
        ]
       ],
       "shape": {
        "columns": 4,
        "rows": 1
       }
      },
      "text/html": [
       "<div>\n",
       "<style scoped>\n",
       "    .dataframe tbody tr th:only-of-type {\n",
       "        vertical-align: middle;\n",
       "    }\n",
       "\n",
       "    .dataframe tbody tr th {\n",
       "        vertical-align: top;\n",
       "    }\n",
       "\n",
       "    .dataframe thead th {\n",
       "        text-align: right;\n",
       "    }\n",
       "</style>\n",
       "<table border=\"1\" class=\"dataframe\">\n",
       "  <thead>\n",
       "    <tr style=\"text-align: right;\">\n",
       "      <th></th>\n",
       "      <th>null_yhat</th>\n",
       "      <th>neg_yhat</th>\n",
       "      <th>swapped_bands</th>\n",
       "      <th>n_days</th>\n",
       "    </tr>\n",
       "  </thead>\n",
       "  <tbody>\n",
       "    <tr>\n",
       "      <th>0</th>\n",
       "      <td>0</td>\n",
       "      <td>4</td>\n",
       "      <td>0</td>\n",
       "      <td>31</td>\n",
       "    </tr>\n",
       "  </tbody>\n",
       "</table>\n",
       "</div>"
      ],
      "text/plain": [
       "   null_yhat  neg_yhat  swapped_bands  n_days\n",
       "0          0         4              0      31"
      ]
     },
     "execution_count": 8,
     "metadata": {},
     "output_type": "execute_result"
    }
   ],
   "source": [
    "# --- Cell 7: sanity checks on yhat & bands ---\n",
    "q(f\"\"\"\n",
    "SELECT\n",
    "  COUNTIF(yhat IS NULL)                         AS null_yhat,\n",
    "  COUNTIF(yhat < 0)                             AS neg_yhat,\n",
    "  COUNTIF(yhat_lower > yhat_upper)              AS swapped_bands,\n",
    "  COUNT(DISTINCT DATE(date))                    AS n_days\n",
    "FROM {FC_TABLE}\n",
    "WHERE shop_id IS NOT NULL AND item_id IS NOT NULL\n",
    "\"\"\")\n"
   ]
  },
  {
   "cell_type": "code",
   "execution_count": 9,
   "id": "0e0ced97",
   "metadata": {},
   "outputs": [
    {
     "data": {
      "text/plain": [
       "(          date  shop_id  item_id  cnt\n",
       " 0   2015-10-01        2     7894    2\n",
       " 1   2015-10-01        2    17717    2\n",
       " 2   2015-10-01        3     5671    2\n",
       " 3   2015-10-01        3     6738    2\n",
       " 4   2015-10-01        3     6740    2\n",
       " 5   2015-10-01        3    17717    2\n",
       " 6   2015-10-01        4     3731    2\n",
       " 7   2015-10-01        4     7736    2\n",
       " 8   2015-10-01        4    17717    2\n",
       " 9   2015-10-01        4    20949    2\n",
       " 10  2015-10-01        5     3733    2\n",
       " 11  2015-10-01        5     4351    2\n",
       " 12  2015-10-01        5     7018    2\n",
       " 13  2015-10-01        5     7791    2\n",
       " 14  2015-10-01        5    14227    2\n",
       " 15  2015-10-01        5    15045    2\n",
       " 16  2015-10-01        5    16287    2\n",
       " 17  2015-10-01        5    20949    2\n",
       " 18  2015-10-01        6       31    2\n",
       " 19  2015-10-01        6     4181    2,\n",
       " 12687)"
      ]
     },
     "execution_count": 9,
     "metadata": {},
     "output_type": "execute_result"
    }
   ],
   "source": [
    "# --- Cell 7b: check duplicate keys (date, shop_id, item_id) ---\n",
    "dupes = q(f\"\"\"\n",
    "SELECT date, shop_id, item_id, COUNT(*) AS cnt\n",
    "FROM {FC_TABLE}\n",
    "WHERE shop_id IS NOT NULL AND item_id IS NOT NULL\n",
    "GROUP BY date, shop_id, item_id\n",
    "HAVING COUNT(*) > 1\n",
    "ORDER BY cnt DESC, date\n",
    "\"\"\")\n",
    "dupes.head(20), len(dupes)\n"
   ]
  },
  {
   "cell_type": "code",
   "execution_count": 10,
   "id": "84c5198c",
   "metadata": {},
   "outputs": [
    {
     "name": "stdout",
     "output_type": "stream",
     "text": [
      "✅ Created/updated view: `retail-alpha-forecaster.raf.v_forecasts_clean`\n"
     ]
    }
   ],
   "source": [
    "# --- Cell 8: create a clean view in BigQuery (idempotent) ---\n",
    "\n",
    "sql = f\"\"\"\n",
    "CREATE OR REPLACE VIEW `{PROJECT}.{DATASET}.v_forecasts_clean` AS\n",
    "SELECT\n",
    "  date,\n",
    "  shop_id,\n",
    "  item_id,\n",
    "  model,\n",
    "  yhat,\n",
    "  LEAST(yhat_lower, yhat_upper)   AS yhat_lower,   -- fix swapped bands\n",
    "  GREATEST(yhat_lower, yhat_upper) AS yhat_upper,\n",
    "  created_at\n",
    "FROM (\n",
    "  SELECT\n",
    "    *,\n",
    "    ROW_NUMBER() OVER (\n",
    "      PARTITION BY date, shop_id, item_id\n",
    "      ORDER BY\n",
    "        CASE WHEN model = 'lightgbm' THEN 0 ELSE 1 END,\n",
    "        created_at DESC\n",
    "    ) AS _rn\n",
    "  FROM {FC_TABLE}\n",
    "  WHERE shop_id IS NOT NULL AND item_id IS NOT NULL\n",
    ")\n",
    "WHERE _rn = 1\n",
    "\"\"\"\n",
    "client.query(sql).result()\n",
    "print(\"✅ Created/updated view:\", f\"`{PROJECT}.{DATASET}.v_forecasts_clean`\")\n",
    "\n",
    "\n"
   ]
  },
  {
   "cell_type": "code",
   "execution_count": 11,
   "id": "db755e19",
   "metadata": {},
   "outputs": [
    {
     "name": "stdout",
     "output_type": "stream",
     "text": [
      "✅ Created/updated views: `retail-alpha-forecaster.raf.v_forecast_pairs` and `retail-alpha-forecaster.raf.v_shops_items`\n"
     ]
    }
   ],
   "source": [
    "# --- Cell 9: pair & list helper views (for Streamlit dropdowns quickly) ---\n",
    "\n",
    "sql_pairs = f\"\"\"\n",
    "CREATE OR REPLACE VIEW `{PROJECT}.{DATASET}.v_forecast_pairs` AS\n",
    "SELECT\n",
    "  shop_id,\n",
    "  item_id,\n",
    "  MIN(date) AS min_date,\n",
    "  MAX(date) AS max_date,\n",
    "  COUNT(*)  AS n_rows\n",
    "FROM `{PROJECT}.{DATASET}.v_forecasts_clean`\n",
    "GROUP BY shop_id, item_id\n",
    "\"\"\"\n",
    "client.query(sql_pairs).result()\n",
    "\n",
    "sql_lists = f\"\"\"\n",
    "CREATE OR REPLACE VIEW `{PROJECT}.{DATASET}.v_shops_items` AS\n",
    "WITH s AS (SELECT DISTINCT shop_id FROM `{PROJECT}.{DATASET}.v_forecasts_clean`),\n",
    "     i AS (SELECT DISTINCT item_id FROM `{PROJECT}.{DATASET}.v_forecasts_clean`)\n",
    "SELECT * FROM s, i\n",
    "\"\"\"\n",
    "client.query(sql_lists).result()\n",
    "\n",
    "print(\"✅ Created/updated views:\",\n",
    "      f\"`{PROJECT}.{DATASET}.v_forecast_pairs`\",\n",
    "      \"and\",\n",
    "      f\"`{PROJECT}.{DATASET}.v_shops_items`\")\n"
   ]
  },
  {
   "cell_type": "code",
   "execution_count": 12,
   "id": "3a779054",
   "metadata": {},
   "outputs": [
    {
     "data": {
      "application/vnd.microsoft.datawrangler.viewer.v0+json": {
       "columns": [
        {
         "name": "index",
         "rawType": "int64",
         "type": "integer"
        },
        {
         "name": "date",
         "rawType": "dbdate",
         "type": "unknown"
        },
        {
         "name": "yhat",
         "rawType": "float64",
         "type": "float"
        },
        {
         "name": "yhat_lower",
         "rawType": "float64",
         "type": "float"
        },
        {
         "name": "yhat_upper",
         "rawType": "float64",
         "type": "float"
        },
        {
         "name": "model",
         "rawType": "object",
         "type": "string"
        },
        {
         "name": "created_at",
         "rawType": "datetime64[us, UTC]",
         "type": "unknown"
        }
       ],
       "ref": "c7ed7b58-9580-498a-86ce-1b993483bb9e",
       "rows": [
        [
         "0",
         "2015-10-01",
         "11.329830132772873",
         "7.728219998405398",
         "14.93144026714035",
         "lightgbm",
         "2025-08-17 16:15:26.225742+00:00"
        ],
        [
         "1",
         "2015-10-02",
         "15.140896230467796",
         "11.53928609610032",
         "18.742506364835272",
         "lightgbm",
         "2025-08-17 16:15:26.225742+00:00"
        ],
        [
         "2",
         "2015-10-03",
         "13.465129044259596",
         "9.863518909892122",
         "17.06673917862707",
         "lightgbm",
         "2025-08-17 16:15:26.225742+00:00"
        ],
        [
         "3",
         "2015-10-04",
         "15.485567679517535",
         "11.88395754515006",
         "19.08717781388501",
         "lightgbm",
         "2025-08-17 16:15:26.225742+00:00"
        ],
        [
         "4",
         "2015-10-05",
         "10.192872813404904",
         "6.5912626790374285",
         "13.79448294777238",
         "lightgbm",
         "2025-08-17 16:15:26.225742+00:00"
        ],
        [
         "5",
         "2015-10-06",
         "12.013604944133201",
         "8.411994809765726",
         "15.615215078500675",
         "lightgbm",
         "2025-08-17 16:15:26.225742+00:00"
        ],
        [
         "6",
         "2015-10-07",
         "9.74395031834879",
         "6.142340183981315",
         "13.345560452716267",
         "lightgbm",
         "2025-08-17 16:15:26.225742+00:00"
        ],
        [
         "7",
         "2015-10-08",
         "10.896067898286022",
         "7.294457763918547",
         "14.497678032653496",
         "lightgbm",
         "2025-08-17 16:15:26.225742+00:00"
        ],
        [
         "8",
         "2015-10-09",
         "14.232311768118983",
         "10.630701633751507",
         "17.83392190248646",
         "lightgbm",
         "2025-08-17 16:15:26.225742+00:00"
        ],
        [
         "9",
         "2015-10-10",
         "21.342918689214166",
         "17.74130855484669",
         "24.944528823581642",
         "lightgbm",
         "2025-08-17 16:15:26.225742+00:00"
        ],
        [
         "10",
         "2015-10-11",
         "14.10894395768244",
         "10.507333823314966",
         "17.710554092049914",
         "lightgbm",
         "2025-08-17 16:15:26.225742+00:00"
        ],
        [
         "11",
         "2015-10-12",
         "9.901458216962371",
         "6.299848082594896",
         "13.503068351329848",
         "lightgbm",
         "2025-08-17 16:15:26.225742+00:00"
        ],
        [
         "12",
         "2015-10-13",
         "12.392950660522636",
         "8.79134052615516",
         "15.994560794890113",
         "lightgbm",
         "2025-08-17 16:15:26.225742+00:00"
        ],
        [
         "13",
         "2015-10-14",
         "13.013357792241278",
         "9.411747657873804",
         "16.614967926608752",
         "lightgbm",
         "2025-08-17 16:15:26.225742+00:00"
        ],
        [
         "14",
         "2015-10-15",
         "11.451318386181928",
         "7.8497082518144525",
         "15.052928520549404",
         "lightgbm",
         "2025-08-17 16:15:26.225742+00:00"
        ],
        [
         "15",
         "2015-10-16",
         "15.93270023662201",
         "12.331090102254535",
         "19.534310370989484",
         "lightgbm",
         "2025-08-17 16:15:26.225742+00:00"
        ],
        [
         "16",
         "2015-10-17",
         "19.48380823869148",
         "15.882198104324004",
         "23.085418373058957",
         "lightgbm",
         "2025-08-17 16:15:26.225742+00:00"
        ],
        [
         "17",
         "2015-10-18",
         "14.15344191010696",
         "10.551831775739483",
         "17.755052044474436",
         "lightgbm",
         "2025-08-17 16:15:26.225742+00:00"
        ],
        [
         "18",
         "2015-10-19",
         "9.6367895397367",
         "6.035179405369225",
         "13.238399674104176",
         "lightgbm",
         "2025-08-17 16:15:26.225742+00:00"
        ],
        [
         "19",
         "2015-10-20",
         "14.211178399808567",
         "10.60956826544109",
         "17.812788534176043",
         "lightgbm",
         "2025-08-17 16:15:26.225742+00:00"
        ]
       ],
       "shape": {
        "columns": 6,
        "rows": 20
       }
      },
      "text/html": [
       "<div>\n",
       "<style scoped>\n",
       "    .dataframe tbody tr th:only-of-type {\n",
       "        vertical-align: middle;\n",
       "    }\n",
       "\n",
       "    .dataframe tbody tr th {\n",
       "        vertical-align: top;\n",
       "    }\n",
       "\n",
       "    .dataframe thead th {\n",
       "        text-align: right;\n",
       "    }\n",
       "</style>\n",
       "<table border=\"1\" class=\"dataframe\">\n",
       "  <thead>\n",
       "    <tr style=\"text-align: right;\">\n",
       "      <th></th>\n",
       "      <th>date</th>\n",
       "      <th>yhat</th>\n",
       "      <th>yhat_lower</th>\n",
       "      <th>yhat_upper</th>\n",
       "      <th>model</th>\n",
       "      <th>created_at</th>\n",
       "    </tr>\n",
       "  </thead>\n",
       "  <tbody>\n",
       "    <tr>\n",
       "      <th>0</th>\n",
       "      <td>2015-10-01</td>\n",
       "      <td>11.329830</td>\n",
       "      <td>7.728220</td>\n",
       "      <td>14.931440</td>\n",
       "      <td>lightgbm</td>\n",
       "      <td>2025-08-17 16:15:26.225742+00:00</td>\n",
       "    </tr>\n",
       "    <tr>\n",
       "      <th>1</th>\n",
       "      <td>2015-10-02</td>\n",
       "      <td>15.140896</td>\n",
       "      <td>11.539286</td>\n",
       "      <td>18.742506</td>\n",
       "      <td>lightgbm</td>\n",
       "      <td>2025-08-17 16:15:26.225742+00:00</td>\n",
       "    </tr>\n",
       "    <tr>\n",
       "      <th>2</th>\n",
       "      <td>2015-10-03</td>\n",
       "      <td>13.465129</td>\n",
       "      <td>9.863519</td>\n",
       "      <td>17.066739</td>\n",
       "      <td>lightgbm</td>\n",
       "      <td>2025-08-17 16:15:26.225742+00:00</td>\n",
       "    </tr>\n",
       "    <tr>\n",
       "      <th>3</th>\n",
       "      <td>2015-10-04</td>\n",
       "      <td>15.485568</td>\n",
       "      <td>11.883958</td>\n",
       "      <td>19.087178</td>\n",
       "      <td>lightgbm</td>\n",
       "      <td>2025-08-17 16:15:26.225742+00:00</td>\n",
       "    </tr>\n",
       "    <tr>\n",
       "      <th>4</th>\n",
       "      <td>2015-10-05</td>\n",
       "      <td>10.192873</td>\n",
       "      <td>6.591263</td>\n",
       "      <td>13.794483</td>\n",
       "      <td>lightgbm</td>\n",
       "      <td>2025-08-17 16:15:26.225742+00:00</td>\n",
       "    </tr>\n",
       "    <tr>\n",
       "      <th>5</th>\n",
       "      <td>2015-10-06</td>\n",
       "      <td>12.013605</td>\n",
       "      <td>8.411995</td>\n",
       "      <td>15.615215</td>\n",
       "      <td>lightgbm</td>\n",
       "      <td>2025-08-17 16:15:26.225742+00:00</td>\n",
       "    </tr>\n",
       "    <tr>\n",
       "      <th>6</th>\n",
       "      <td>2015-10-07</td>\n",
       "      <td>9.743950</td>\n",
       "      <td>6.142340</td>\n",
       "      <td>13.345560</td>\n",
       "      <td>lightgbm</td>\n",
       "      <td>2025-08-17 16:15:26.225742+00:00</td>\n",
       "    </tr>\n",
       "    <tr>\n",
       "      <th>7</th>\n",
       "      <td>2015-10-08</td>\n",
       "      <td>10.896068</td>\n",
       "      <td>7.294458</td>\n",
       "      <td>14.497678</td>\n",
       "      <td>lightgbm</td>\n",
       "      <td>2025-08-17 16:15:26.225742+00:00</td>\n",
       "    </tr>\n",
       "    <tr>\n",
       "      <th>8</th>\n",
       "      <td>2015-10-09</td>\n",
       "      <td>14.232312</td>\n",
       "      <td>10.630702</td>\n",
       "      <td>17.833922</td>\n",
       "      <td>lightgbm</td>\n",
       "      <td>2025-08-17 16:15:26.225742+00:00</td>\n",
       "    </tr>\n",
       "    <tr>\n",
       "      <th>9</th>\n",
       "      <td>2015-10-10</td>\n",
       "      <td>21.342919</td>\n",
       "      <td>17.741309</td>\n",
       "      <td>24.944529</td>\n",
       "      <td>lightgbm</td>\n",
       "      <td>2025-08-17 16:15:26.225742+00:00</td>\n",
       "    </tr>\n",
       "    <tr>\n",
       "      <th>10</th>\n",
       "      <td>2015-10-11</td>\n",
       "      <td>14.108944</td>\n",
       "      <td>10.507334</td>\n",
       "      <td>17.710554</td>\n",
       "      <td>lightgbm</td>\n",
       "      <td>2025-08-17 16:15:26.225742+00:00</td>\n",
       "    </tr>\n",
       "    <tr>\n",
       "      <th>11</th>\n",
       "      <td>2015-10-12</td>\n",
       "      <td>9.901458</td>\n",
       "      <td>6.299848</td>\n",
       "      <td>13.503068</td>\n",
       "      <td>lightgbm</td>\n",
       "      <td>2025-08-17 16:15:26.225742+00:00</td>\n",
       "    </tr>\n",
       "    <tr>\n",
       "      <th>12</th>\n",
       "      <td>2015-10-13</td>\n",
       "      <td>12.392951</td>\n",
       "      <td>8.791341</td>\n",
       "      <td>15.994561</td>\n",
       "      <td>lightgbm</td>\n",
       "      <td>2025-08-17 16:15:26.225742+00:00</td>\n",
       "    </tr>\n",
       "    <tr>\n",
       "      <th>13</th>\n",
       "      <td>2015-10-14</td>\n",
       "      <td>13.013358</td>\n",
       "      <td>9.411748</td>\n",
       "      <td>16.614968</td>\n",
       "      <td>lightgbm</td>\n",
       "      <td>2025-08-17 16:15:26.225742+00:00</td>\n",
       "    </tr>\n",
       "    <tr>\n",
       "      <th>14</th>\n",
       "      <td>2015-10-15</td>\n",
       "      <td>11.451318</td>\n",
       "      <td>7.849708</td>\n",
       "      <td>15.052929</td>\n",
       "      <td>lightgbm</td>\n",
       "      <td>2025-08-17 16:15:26.225742+00:00</td>\n",
       "    </tr>\n",
       "    <tr>\n",
       "      <th>15</th>\n",
       "      <td>2015-10-16</td>\n",
       "      <td>15.932700</td>\n",
       "      <td>12.331090</td>\n",
       "      <td>19.534310</td>\n",
       "      <td>lightgbm</td>\n",
       "      <td>2025-08-17 16:15:26.225742+00:00</td>\n",
       "    </tr>\n",
       "    <tr>\n",
       "      <th>16</th>\n",
       "      <td>2015-10-17</td>\n",
       "      <td>19.483808</td>\n",
       "      <td>15.882198</td>\n",
       "      <td>23.085418</td>\n",
       "      <td>lightgbm</td>\n",
       "      <td>2025-08-17 16:15:26.225742+00:00</td>\n",
       "    </tr>\n",
       "    <tr>\n",
       "      <th>17</th>\n",
       "      <td>2015-10-18</td>\n",
       "      <td>14.153442</td>\n",
       "      <td>10.551832</td>\n",
       "      <td>17.755052</td>\n",
       "      <td>lightgbm</td>\n",
       "      <td>2025-08-17 16:15:26.225742+00:00</td>\n",
       "    </tr>\n",
       "    <tr>\n",
       "      <th>18</th>\n",
       "      <td>2015-10-19</td>\n",
       "      <td>9.636790</td>\n",
       "      <td>6.035179</td>\n",
       "      <td>13.238400</td>\n",
       "      <td>lightgbm</td>\n",
       "      <td>2025-08-17 16:15:26.225742+00:00</td>\n",
       "    </tr>\n",
       "    <tr>\n",
       "      <th>19</th>\n",
       "      <td>2015-10-20</td>\n",
       "      <td>14.211178</td>\n",
       "      <td>10.609568</td>\n",
       "      <td>17.812789</td>\n",
       "      <td>lightgbm</td>\n",
       "      <td>2025-08-17 16:15:26.225742+00:00</td>\n",
       "    </tr>\n",
       "  </tbody>\n",
       "</table>\n",
       "</div>"
      ],
      "text/plain": [
       "          date       yhat  yhat_lower  yhat_upper     model  \\\n",
       "0   2015-10-01  11.329830    7.728220   14.931440  lightgbm   \n",
       "1   2015-10-02  15.140896   11.539286   18.742506  lightgbm   \n",
       "2   2015-10-03  13.465129    9.863519   17.066739  lightgbm   \n",
       "3   2015-10-04  15.485568   11.883958   19.087178  lightgbm   \n",
       "4   2015-10-05  10.192873    6.591263   13.794483  lightgbm   \n",
       "5   2015-10-06  12.013605    8.411995   15.615215  lightgbm   \n",
       "6   2015-10-07   9.743950    6.142340   13.345560  lightgbm   \n",
       "7   2015-10-08  10.896068    7.294458   14.497678  lightgbm   \n",
       "8   2015-10-09  14.232312   10.630702   17.833922  lightgbm   \n",
       "9   2015-10-10  21.342919   17.741309   24.944529  lightgbm   \n",
       "10  2015-10-11  14.108944   10.507334   17.710554  lightgbm   \n",
       "11  2015-10-12   9.901458    6.299848   13.503068  lightgbm   \n",
       "12  2015-10-13  12.392951    8.791341   15.994561  lightgbm   \n",
       "13  2015-10-14  13.013358    9.411748   16.614968  lightgbm   \n",
       "14  2015-10-15  11.451318    7.849708   15.052929  lightgbm   \n",
       "15  2015-10-16  15.932700   12.331090   19.534310  lightgbm   \n",
       "16  2015-10-17  19.483808   15.882198   23.085418  lightgbm   \n",
       "17  2015-10-18  14.153442   10.551832   17.755052  lightgbm   \n",
       "18  2015-10-19   9.636790    6.035179   13.238400  lightgbm   \n",
       "19  2015-10-20  14.211178   10.609568   17.812789  lightgbm   \n",
       "\n",
       "                         created_at  \n",
       "0  2025-08-17 16:15:26.225742+00:00  \n",
       "1  2025-08-17 16:15:26.225742+00:00  \n",
       "2  2025-08-17 16:15:26.225742+00:00  \n",
       "3  2025-08-17 16:15:26.225742+00:00  \n",
       "4  2025-08-17 16:15:26.225742+00:00  \n",
       "5  2025-08-17 16:15:26.225742+00:00  \n",
       "6  2025-08-17 16:15:26.225742+00:00  \n",
       "7  2025-08-17 16:15:26.225742+00:00  \n",
       "8  2025-08-17 16:15:26.225742+00:00  \n",
       "9  2025-08-17 16:15:26.225742+00:00  \n",
       "10 2025-08-17 16:15:26.225742+00:00  \n",
       "11 2025-08-17 16:15:26.225742+00:00  \n",
       "12 2025-08-17 16:15:26.225742+00:00  \n",
       "13 2025-08-17 16:15:26.225742+00:00  \n",
       "14 2025-08-17 16:15:26.225742+00:00  \n",
       "15 2025-08-17 16:15:26.225742+00:00  \n",
       "16 2025-08-17 16:15:26.225742+00:00  \n",
       "17 2025-08-17 16:15:26.225742+00:00  \n",
       "18 2025-08-17 16:15:26.225742+00:00  \n",
       "19 2025-08-17 16:15:26.225742+00:00  "
      ]
     },
     "execution_count": 12,
     "metadata": {},
     "output_type": "execute_result"
    }
   ],
   "source": [
    "# --- Cell 10: preview one pair (edit IDs and re-run) ---\n",
    "SHOP, ITEM = 25, 20949   # <-- change to any pair from 'pairs' output above\n",
    "\n",
    "preview = q(f\"\"\"\n",
    "SELECT date, yhat, yhat_lower, yhat_upper, model, created_at\n",
    "FROM `{PROJECT}.{DATASET}.v_forecasts_clean`\n",
    "WHERE shop_id = {SHOP} AND item_id = {ITEM}\n",
    "ORDER BY date\n",
    "\"\"\")\n",
    "preview.head(20)\n"
   ]
  },
  {
   "cell_type": "code",
   "execution_count": 13,
   "id": "0f60fc65",
   "metadata": {},
   "outputs": [
    {
     "name": "stdout",
     "output_type": "stream",
     "text": [
      "Saved: pairs.csv, pair_windows.csv, shops.csv, items.csv\n"
     ]
    }
   ],
   "source": [
    "# --- Cell 11: (optional) cache useful tables locally for faster iteration ---\n",
    "pairs.to_csv(\"pairs.csv\", index=False)\n",
    "pair_windows.to_csv(\"pair_windows.csv\", index=False)\n",
    "\n",
    "shops = q(f\"SELECT DISTINCT shop_id FROM `{PROJECT}.{DATASET}.v_forecasts_clean` ORDER BY shop_id\")\n",
    "items = q(f\"SELECT DISTINCT item_id FROM `{PROJECT}.{DATASET}.v_forecasts_clean` ORDER BY item_id\")\n",
    "shops.to_csv(\"shops.csv\", index=False)\n",
    "items.to_csv(\"items.csv\", index=False)\n",
    "\n",
    "print(\"Saved: pairs.csv, pair_windows.csv, shops.csv, items.csv\")\n"
   ]
  }
 ],
 "metadata": {
  "kernelspec": {
   "display_name": ".venv",
   "language": "python",
   "name": "python3"
  },
  "language_info": {
   "codemirror_mode": {
    "name": "ipython",
    "version": 3
   },
   "file_extension": ".py",
   "mimetype": "text/x-python",
   "name": "python",
   "nbconvert_exporter": "python",
   "pygments_lexer": "ipython3",
   "version": "3.10.12"
  }
 },
 "nbformat": 4,
 "nbformat_minor": 5
}
