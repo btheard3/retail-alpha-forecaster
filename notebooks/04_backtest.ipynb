{
 "cells": [
  {
   "cell_type": "markdown",
   "id": "6766035b",
   "metadata": {},
   "source": [
    "Notebook 4 – Multi-Model Backtesting for Retail Forecasting\n",
    "Goal\n",
    "\n",
    "Evaluate and compare multiple forecasting models (LightGBM, Prophet, seasonal naive, naive) on retail sales data using a rolling backtest strategy, then store results in BigQuery for further analysis.\n",
    "\n",
    "Step-by-Step Breakdown\n",
    "1. Import Libraries & Define Metrics\n",
    "\n",
    "Why: We need performance metrics to evaluate forecasts.\n",
    "\n",
    "What we did:\n",
    "\n",
    "Defined mse, rmse, smape functions to measure accuracy.\n",
    "\n",
    "Imported core tools (numpy, pandas, lightgbm, prophet).\n",
    "\n",
    "2. Load Engineered Features from BigQuery\n",
    "\n",
    "Why: Models need historical sales data with engineered lag features.\n",
    "\n",
    "What we did:\n",
    "\n",
    "Connected to the feature store table in BigQuery.\n",
    "\n",
    "Pulled features such as:\n",
    "\n",
    "Lagged sales (lag_7, lag_14, etc.)\n",
    "\n",
    "Rolling means\n",
    "\n",
    "Price, day-of-week, holiday flags.\n",
    "\n",
    "3. Aggregate to Daily Series for Baseline Models\n",
    "\n",
    "Why: Prophet and naive baselines work on aggregated daily sales, not granular shop/item data.\n",
    "\n",
    "What we did:\n",
    "\n",
    "Grouped data by date, summing target sales.\n",
    "\n",
    "Built a simplified dataset for baseline models.\n",
    "\n",
    "4. Rolling Backtest Setup\n",
    "\n",
    "Why: Mimics real-world forecasting where we train on past data and predict future periods.\n",
    "\n",
    "What we did:\n",
    "\n",
    "Created multiple cutoff dates.\n",
    "\n",
    "For each cutoff:\n",
    "\n",
    "Train models on data before cutoff.\n",
    "\n",
    "Forecast horizon days ahead.\n",
    "\n",
    "Compare predictions to actuals.\n",
    "\n",
    "5. Train & Predict\n",
    "Prophet\n",
    "\n",
    "Fit a time-series model to aggregated daily sales.\n",
    "\n",
    "Forecast horizon days ahead.\n",
    "\n",
    "LightGBM\n",
    "\n",
    "Fit a gradient-boosted decision tree on all features.\n",
    "\n",
    "Predict for each horizon day.\n",
    "\n",
    "Naive & Seasonal Naive\n",
    "\n",
    "Simple benchmarks:\n",
    "\n",
    "Naive: Use last observed value.\n",
    "\n",
    "Seasonal Naive: Use value from same day last year.\n",
    "\n",
    "6. Store Predictions & Metrics\n",
    "\n",
    "Why: So we can compare models and visualize performance.\n",
    "\n",
    "What we did:\n",
    "\n",
    "Collected predictions + actuals for each model & cutoff.\n",
    "\n",
    "Calculated metrics (mse, rmse, smape).\n",
    "\n",
    "7. Visualization\n",
    "\n",
    "Rolling Backtest – Average sMAPE by Model:\n",
    "\n",
    "Shows which model performs best overall.\n",
    "\n",
    "LightGBM significantly outperformed baselines.\n",
    "\n",
    "Rolling sMAPE by Cutoff:\n",
    "\n",
    "Performance trend over time.\n",
    "\n",
    "8. Write Backtest Results to BigQuery\n",
    "\n",
    "Why: Store results for dashboards or further querying.\n",
    "\n",
    "What we did:\n",
    "\n",
    "Created (if missing) and appended results to retail-alpha-forecaster.raf.backtests.\n",
    "\n",
    "Key Insights\n",
    "\n",
    "LightGBM had the lowest sMAPE, meaning it consistently produced more accurate forecasts.\n",
    "\n",
    "Prophet and naive baselines performed worse, showing the benefit of engineered features + tree-based models.\n",
    "\n",
    "Rolling backtest gave a realistic view of model stability over time — not just a one-time accuracy snapshot.\n",
    "\n",
    "The pipeline is production-ready: data is fetched from BigQuery, models are trained, metrics calculated, and results stored back in BigQuery."
   ]
  },
  {
   "cell_type": "code",
   "execution_count": 1,
   "id": "c0c8b424",
   "metadata": {},
   "outputs": [
    {
     "name": "stderr",
     "output_type": "stream",
     "text": [
      "/home/btheard/retail-alpha-forecaster/.venv/lib/python3.10/site-packages/tqdm/auto.py:21: TqdmWarning: IProgress not found. Please update jupyter and ipywidgets. See https://ipywidgets.readthedocs.io/en/stable/user_install.html\n",
      "  from .autonotebook import tqdm as notebook_tqdm\n"
     ]
    }
   ],
   "source": [
    "import os\n",
    "import numpy as np\n",
    "import pandas as pd\n",
    "import matplotlib.pyplot as plt\n",
    "\n",
    "from datetime import timezone\n",
    "from google.cloud import bigquery\n",
    "\n",
    "# Try Prophet; continue if not installed\n",
    "try:\n",
    "    from prophet import Prophet\n",
    "    HAS_PROPHET = True\n",
    "except Exception as _:\n",
    "    HAS_PROPHET = False\n",
    "\n",
    "# BQ config (same project/dataset you used earlier)\n",
    "BQ_PROJECT = os.environ.get(\"GCP_PROJECT\", \"retail-alpha-forecaster\")\n",
    "BQ_DATASET = \"raf\"\n",
    "\n",
    "# Metrics\n",
    "def rmse(y, yhat):  return float(np.sqrt(np.mean((y - yhat)**2)))\n",
    "def mae(y, yhat):   return float(np.mean(np.abs(y - yhat)))\n",
    "def smape(y, yhat):\n",
    "    y, yhat = np.asarray(y), np.asarray(yhat)\n",
    "    denom = (np.abs(y) + np.abs(yhat)) / 2.0\n",
    "    return float(np.mean(np.where(denom == 0, 0, np.abs(y - yhat) / denom))) * 100"
   ]
  },
  {
   "cell_type": "code",
   "execution_count": 4,
   "id": "d7b2bd30",
   "metadata": {},
   "outputs": [
    {
     "name": "stdout",
     "output_type": "stream",
     "text": [
      "✅ Retrieved 2,935,849 rows from retail-alpha-forecaster.raf.feature_store in US.\n"
     ]
    },
    {
     "data": {
      "application/vnd.microsoft.datawrangler.viewer.v0+json": {
       "columns": [
        {
         "name": "index",
         "rawType": "int64",
         "type": "integer"
        },
        {
         "name": "date",
         "rawType": "datetime64[ns]",
         "type": "datetime"
        },
        {
         "name": "shop_id",
         "rawType": "Int64",
         "type": "integer"
        },
        {
         "name": "item_id",
         "rawType": "Int64",
         "type": "integer"
        },
        {
         "name": "date_block_num",
         "rawType": "Int64",
         "type": "integer"
        },
        {
         "name": "item_cnt_day",
         "rawType": "float64",
         "type": "float"
        },
        {
         "name": "lag_1",
         "rawType": "float64",
         "type": "float"
        },
        {
         "name": "lag_7",
         "rawType": "float64",
         "type": "float"
        },
        {
         "name": "lag_14",
         "rawType": "float64",
         "type": "float"
        },
        {
         "name": "lag_28",
         "rawType": "float64",
         "type": "float"
        },
        {
         "name": "ma_7",
         "rawType": "float64",
         "type": "float"
        },
        {
         "name": "ma_14",
         "rawType": "float64",
         "type": "float"
        },
        {
         "name": "ma_28",
         "rawType": "float64",
         "type": "float"
        },
        {
         "name": "price_last",
         "rawType": "float64",
         "type": "float"
        },
        {
         "name": "dow",
         "rawType": "Int64",
         "type": "integer"
        },
        {
         "name": "weekofyear",
         "rawType": "Int64",
         "type": "integer"
        },
        {
         "name": "month",
         "rawType": "Int64",
         "type": "integer"
        },
        {
         "name": "is_holiday",
         "rawType": "boolean",
         "type": "boolean"
        }
       ],
       "ref": "5c245c69-f1c8-499d-bfda-a50923c7bd91",
       "rows": [
        [
         "0",
         "2013-01-17 00:00:00",
         "0",
         "4163",
         "0",
         "1.0",
         "6.0",
         "4.0",
         null,
         null,
         "3.142857142857143",
         null,
         null,
         "1088.0",
         "3",
         "3",
         "1",
         "False"
        ],
        [
         "1",
         "2013-01-15 00:00:00",
         "0",
         "4164",
         "0",
         "3.0",
         "2.0",
         "3.0",
         null,
         null,
         "2.2857142857142856",
         null,
         null,
         "707.0",
         "1",
         "3",
         "1",
         "False"
        ],
        [
         "2",
         "2013-01-17 00:00:00",
         "0",
         "4164",
         "0",
         "1.0",
         "2.0",
         "2.0",
         null,
         null,
         "2.2857142857142856",
         null,
         null,
         "707.0",
         "3",
         "3",
         "1",
         "False"
        ],
        [
         "3",
         "2013-01-31 00:00:00",
         "0",
         "11041",
         "0",
         "1.0",
         "2.0",
         "9.0",
         null,
         null,
         "3.7142857142857144",
         null,
         null,
         "221.0",
         "3",
         "5",
         "1",
         "False"
        ],
        [
         "4",
         "2013-01-17 00:00:00",
         "0",
         "13351",
         "0",
         "1.0",
         "3.0",
         "7.0",
         null,
         null,
         "3.0",
         null,
         null,
         "41.0",
         "3",
         "3",
         "1",
         "False"
        ]
       ],
       "shape": {
        "columns": 17,
        "rows": 5
       }
      },
      "text/html": [
       "<div>\n",
       "<style scoped>\n",
       "    .dataframe tbody tr th:only-of-type {\n",
       "        vertical-align: middle;\n",
       "    }\n",
       "\n",
       "    .dataframe tbody tr th {\n",
       "        vertical-align: top;\n",
       "    }\n",
       "\n",
       "    .dataframe thead th {\n",
       "        text-align: right;\n",
       "    }\n",
       "</style>\n",
       "<table border=\"1\" class=\"dataframe\">\n",
       "  <thead>\n",
       "    <tr style=\"text-align: right;\">\n",
       "      <th></th>\n",
       "      <th>date</th>\n",
       "      <th>shop_id</th>\n",
       "      <th>item_id</th>\n",
       "      <th>date_block_num</th>\n",
       "      <th>item_cnt_day</th>\n",
       "      <th>lag_1</th>\n",
       "      <th>lag_7</th>\n",
       "      <th>lag_14</th>\n",
       "      <th>lag_28</th>\n",
       "      <th>ma_7</th>\n",
       "      <th>ma_14</th>\n",
       "      <th>ma_28</th>\n",
       "      <th>price_last</th>\n",
       "      <th>dow</th>\n",
       "      <th>weekofyear</th>\n",
       "      <th>month</th>\n",
       "      <th>is_holiday</th>\n",
       "    </tr>\n",
       "  </thead>\n",
       "  <tbody>\n",
       "    <tr>\n",
       "      <th>0</th>\n",
       "      <td>2013-01-17</td>\n",
       "      <td>0</td>\n",
       "      <td>4163</td>\n",
       "      <td>0</td>\n",
       "      <td>1.0</td>\n",
       "      <td>6.0</td>\n",
       "      <td>4.0</td>\n",
       "      <td>NaN</td>\n",
       "      <td>NaN</td>\n",
       "      <td>3.142857</td>\n",
       "      <td>NaN</td>\n",
       "      <td>NaN</td>\n",
       "      <td>1088.0</td>\n",
       "      <td>3</td>\n",
       "      <td>3</td>\n",
       "      <td>1</td>\n",
       "      <td>False</td>\n",
       "    </tr>\n",
       "    <tr>\n",
       "      <th>1</th>\n",
       "      <td>2013-01-15</td>\n",
       "      <td>0</td>\n",
       "      <td>4164</td>\n",
       "      <td>0</td>\n",
       "      <td>3.0</td>\n",
       "      <td>2.0</td>\n",
       "      <td>3.0</td>\n",
       "      <td>NaN</td>\n",
       "      <td>NaN</td>\n",
       "      <td>2.285714</td>\n",
       "      <td>NaN</td>\n",
       "      <td>NaN</td>\n",
       "      <td>707.0</td>\n",
       "      <td>1</td>\n",
       "      <td>3</td>\n",
       "      <td>1</td>\n",
       "      <td>False</td>\n",
       "    </tr>\n",
       "    <tr>\n",
       "      <th>2</th>\n",
       "      <td>2013-01-17</td>\n",
       "      <td>0</td>\n",
       "      <td>4164</td>\n",
       "      <td>0</td>\n",
       "      <td>1.0</td>\n",
       "      <td>2.0</td>\n",
       "      <td>2.0</td>\n",
       "      <td>NaN</td>\n",
       "      <td>NaN</td>\n",
       "      <td>2.285714</td>\n",
       "      <td>NaN</td>\n",
       "      <td>NaN</td>\n",
       "      <td>707.0</td>\n",
       "      <td>3</td>\n",
       "      <td>3</td>\n",
       "      <td>1</td>\n",
       "      <td>False</td>\n",
       "    </tr>\n",
       "    <tr>\n",
       "      <th>3</th>\n",
       "      <td>2013-01-31</td>\n",
       "      <td>0</td>\n",
       "      <td>11041</td>\n",
       "      <td>0</td>\n",
       "      <td>1.0</td>\n",
       "      <td>2.0</td>\n",
       "      <td>9.0</td>\n",
       "      <td>NaN</td>\n",
       "      <td>NaN</td>\n",
       "      <td>3.714286</td>\n",
       "      <td>NaN</td>\n",
       "      <td>NaN</td>\n",
       "      <td>221.0</td>\n",
       "      <td>3</td>\n",
       "      <td>5</td>\n",
       "      <td>1</td>\n",
       "      <td>False</td>\n",
       "    </tr>\n",
       "    <tr>\n",
       "      <th>4</th>\n",
       "      <td>2013-01-17</td>\n",
       "      <td>0</td>\n",
       "      <td>13351</td>\n",
       "      <td>0</td>\n",
       "      <td>1.0</td>\n",
       "      <td>3.0</td>\n",
       "      <td>7.0</td>\n",
       "      <td>NaN</td>\n",
       "      <td>NaN</td>\n",
       "      <td>3.000000</td>\n",
       "      <td>NaN</td>\n",
       "      <td>NaN</td>\n",
       "      <td>41.0</td>\n",
       "      <td>3</td>\n",
       "      <td>3</td>\n",
       "      <td>1</td>\n",
       "      <td>False</td>\n",
       "    </tr>\n",
       "  </tbody>\n",
       "</table>\n",
       "</div>"
      ],
      "text/plain": [
       "        date  shop_id  item_id  date_block_num  item_cnt_day  lag_1  lag_7  \\\n",
       "0 2013-01-17        0     4163               0           1.0    6.0    4.0   \n",
       "1 2013-01-15        0     4164               0           3.0    2.0    3.0   \n",
       "2 2013-01-17        0     4164               0           1.0    2.0    2.0   \n",
       "3 2013-01-31        0    11041               0           1.0    2.0    9.0   \n",
       "4 2013-01-17        0    13351               0           1.0    3.0    7.0   \n",
       "\n",
       "   lag_14  lag_28      ma_7  ma_14  ma_28  price_last  dow  weekofyear  month  \\\n",
       "0     NaN     NaN  3.142857    NaN    NaN      1088.0    3           3      1   \n",
       "1     NaN     NaN  2.285714    NaN    NaN       707.0    1           3      1   \n",
       "2     NaN     NaN  2.285714    NaN    NaN       707.0    3           3      1   \n",
       "3     NaN     NaN  3.714286    NaN    NaN       221.0    3           5      1   \n",
       "4     NaN     NaN  3.000000    NaN    NaN        41.0    3           3      1   \n",
       "\n",
       "   is_holiday  \n",
       "0       False  \n",
       "1       False  \n",
       "2       False  \n",
       "3       False  \n",
       "4       False  "
      ]
     },
     "execution_count": 4,
     "metadata": {},
     "output_type": "execute_result"
    }
   ],
   "source": [
    "# --- Cell 2: BigQuery client + load feature_store (correct dataset/table) ---\n",
    "import os\n",
    "import google.auth\n",
    "from google.cloud import bigquery\n",
    "\n",
    "# Use ADC and clear any stale service-account env var\n",
    "os.environ.pop(\"GOOGLE_APPLICATION_CREDENTIALS\", None)\n",
    "\n",
    "# Set your project, dataset, and BQ location\n",
    "BQ_PROJECT  = os.environ.get(\"GCP_PROJECT\", \"retail-alpha-forecaster\")\n",
    "BQ_DATASET  = \"raf\"            # <-- our dataset name from earlier notebooks\n",
    "BQ_LOCATION = \"US\"             # change to \"EU\" if you created the dataset in EU\n",
    "\n",
    "# Auth with ADC and set quota project\n",
    "credentials, _ = google.auth.default(quota_project_id=BQ_PROJECT)\n",
    "client = bigquery.Client(project=BQ_PROJECT, credentials=credentials)\n",
    "\n",
    "# Sanity: make sure dataset and table exist\n",
    "dataset_id = f\"{BQ_PROJECT}.{BQ_DATASET}\"\n",
    "table_id   = f\"{dataset_id}.feature_store\"\n",
    "\n",
    "# Will raise NotFound if missing\n",
    "client.get_dataset(dataset_id)\n",
    "client.get_table(table_id)\n",
    "\n",
    "# Pull the engineered feature store\n",
    "sql = f\"\"\"\n",
    "SELECT\n",
    "  date, shop_id, item_id, date_block_num, item_cnt_day,\n",
    "  lag_1, lag_7, lag_14, lag_28,\n",
    "  ma_7, ma_14, ma_28,\n",
    "  price_last, dow, weekofyear, month, is_holiday\n",
    "FROM `{table_id}`\n",
    "WHERE date IS NOT NULL\n",
    "\"\"\"\n",
    "\n",
    "job = client.query(sql, location=BQ_LOCATION)  # ensure correct location\n",
    "fs = job.result().to_dataframe()\n",
    "fs[\"date\"] = fs[\"date\"].astype(\"datetime64[ns]\")  # ensure timestamp -> pandas datetime\n",
    "\n",
    "print(f\"✅ Retrieved {len(fs):,} rows from {table_id} in {BQ_LOCATION}.\")\n",
    "fs.head()\n",
    "\n",
    "\n"
   ]
  },
  {
   "cell_type": "code",
   "execution_count": 5,
   "id": "c166bee4",
   "metadata": {},
   "outputs": [
    {
     "data": {
      "application/vnd.microsoft.datawrangler.viewer.v0+json": {
       "columns": [
        {
         "name": "index",
         "rawType": "int64",
         "type": "integer"
        },
        {
         "name": "date",
         "rawType": "datetime64[ns]",
         "type": "datetime"
        },
        {
         "name": "y",
         "rawType": "float64",
         "type": "float"
        }
       ],
       "ref": "6985a8be-2d35-481c-9f61-9727246fa263",
       "rows": [
        [
         "0",
         "2013-01-01 00:00:00",
         "1951.0"
        ],
        [
         "1",
         "2013-01-02 00:00:00",
         "8198.0"
        ],
        [
         "2",
         "2013-01-03 00:00:00",
         "7422.0"
        ],
        [
         "3",
         "2013-01-04 00:00:00",
         "6617.0"
        ],
        [
         "4",
         "2013-01-05 00:00:00",
         "6346.0"
        ]
       ],
       "shape": {
        "columns": 2,
        "rows": 5
       }
      },
      "text/html": [
       "<div>\n",
       "<style scoped>\n",
       "    .dataframe tbody tr th:only-of-type {\n",
       "        vertical-align: middle;\n",
       "    }\n",
       "\n",
       "    .dataframe tbody tr th {\n",
       "        vertical-align: top;\n",
       "    }\n",
       "\n",
       "    .dataframe thead th {\n",
       "        text-align: right;\n",
       "    }\n",
       "</style>\n",
       "<table border=\"1\" class=\"dataframe\">\n",
       "  <thead>\n",
       "    <tr style=\"text-align: right;\">\n",
       "      <th></th>\n",
       "      <th>date</th>\n",
       "      <th>y</th>\n",
       "    </tr>\n",
       "  </thead>\n",
       "  <tbody>\n",
       "    <tr>\n",
       "      <th>0</th>\n",
       "      <td>2013-01-01</td>\n",
       "      <td>1951.0</td>\n",
       "    </tr>\n",
       "    <tr>\n",
       "      <th>1</th>\n",
       "      <td>2013-01-02</td>\n",
       "      <td>8198.0</td>\n",
       "    </tr>\n",
       "    <tr>\n",
       "      <th>2</th>\n",
       "      <td>2013-01-03</td>\n",
       "      <td>7422.0</td>\n",
       "    </tr>\n",
       "    <tr>\n",
       "      <th>3</th>\n",
       "      <td>2013-01-04</td>\n",
       "      <td>6617.0</td>\n",
       "    </tr>\n",
       "    <tr>\n",
       "      <th>4</th>\n",
       "      <td>2013-01-05</td>\n",
       "      <td>6346.0</td>\n",
       "    </tr>\n",
       "  </tbody>\n",
       "</table>\n",
       "</div>"
      ],
      "text/plain": [
       "        date       y\n",
       "0 2013-01-01  1951.0\n",
       "1 2013-01-02  8198.0\n",
       "2 2013-01-03  7422.0\n",
       "3 2013-01-04  6617.0\n",
       "4 2013-01-05  6346.0"
      ]
     },
     "execution_count": 5,
     "metadata": {},
     "output_type": "execute_result"
    }
   ],
   "source": [
    "# --- Cell 3: metrics & feature list ---\n",
    "import numpy as np\n",
    "import pandas as pd\n",
    "import matplotlib.pyplot as plt\n",
    "\n",
    "# Metrics\n",
    "def rmse(y, yhat):  return float(np.sqrt(np.mean((y - yhat)**2)))\n",
    "def mae(y, yhat):   return float(np.mean(np.abs(y - yhat)))\n",
    "def smape(y, yhat):\n",
    "    y = np.asarray(y, dtype=float)\n",
    "    yhat = np.asarray(yhat, dtype=float)\n",
    "    denom = (np.abs(y) + np.abs(yhat)) / 2.0\n",
    "    return float(np.mean(np.where(denom == 0, 0, np.abs(y - yhat) / denom))) * 100\n",
    "\n",
    "# Ensure sorted\n",
    "fs = fs.sort_values(\"date\").reset_index(drop=True)\n",
    "\n",
    "# Feature list (adjust names if yours differ)\n",
    "FEATURES = [\n",
    "    \"lag_1\", \"lag_7\", \"lag_14\", \"lag_28\",\n",
    "    \"ma_7\", \"ma_14\", \"ma_28\",\n",
    "    \"price_last\", \"dow\", \"weekofyear\", \"month\", \"is_holiday\"\n",
    "]\n",
    "TARGET = \"item_cnt_day\"\n",
    "\n",
    "# Aggregate daily series for baselines/Prophet\n",
    "series = (\n",
    "    fs.groupby(\"date\", as_index=False)[TARGET]\n",
    "      .sum()\n",
    "      .rename(columns={TARGET: \"y\"})\n",
    "      .sort_values(\"date\")\n",
    ")\n",
    "series.head()\n"
   ]
  },
  {
   "cell_type": "code",
   "execution_count": 6,
   "id": "6a297056",
   "metadata": {},
   "outputs": [
    {
     "name": "stdout",
     "output_type": "stream",
     "text": [
      "Rolling monthly cutoffs: 31\n"
     ]
    },
    {
     "name": "stderr",
     "output_type": "stream",
     "text": [
      "/tmp/ipykernel_7586/1581537459.py:9: FutureWarning: 'M' is deprecated and will be removed in a future version, please use 'ME' instead.\n",
      "  cutoffs = pd.date_range(start=start, end=end, freq=\"M\")\n"
     ]
    },
    {
     "data": {
      "text/plain": [
       "(DatetimeIndex(['2013-03-31', '2013-04-30', '2013-05-31'], dtype='datetime64[ns]', freq='ME'),\n",
       " DatetimeIndex(['2015-07-31', '2015-08-31', '2015-09-30'], dtype='datetime64[ns]', freq='ME'))"
      ]
     },
     "execution_count": 6,
     "metadata": {},
     "output_type": "execute_result"
    }
   ],
   "source": [
    "# --- Cell 4: monthly rolling cutoffs ---\n",
    "min_date = series[\"date\"].min()\n",
    "max_date = series[\"date\"].max()\n",
    "\n",
    "# Start after 3 months of warmup; end one month before max\n",
    "start = (min_date + pd.offsets.MonthEnd(3)).normalize()\n",
    "end   = (max_date - pd.offsets.MonthEnd(1)).normalize()\n",
    "\n",
    "cutoffs = pd.date_range(start=start, end=end, freq=\"M\")\n",
    "print(f\"Rolling monthly cutoffs: {len(cutoffs)}\")\n",
    "cutoffs[:3], cutoffs[-3:]\n"
   ]
  },
  {
   "cell_type": "code",
   "execution_count": 7,
   "id": "ee81320e",
   "metadata": {},
   "outputs": [],
   "source": [
    "# --- Cell 5: baselines + Prophet helper (optional) ---\n",
    "# Baselines\n",
    "def baseline_naive(train_values, horizon):\n",
    "    last = train_values.iloc[-1]\n",
    "    return np.repeat(last, horizon)\n",
    "\n",
    "def baseline_seasonal_naive(train_values, horizon, season=7):\n",
    "    tail = train_values.iloc[-season:]\n",
    "    reps = int(np.ceil(horizon / season))\n",
    "    return np.tile(tail.values, reps)[:horizon]\n",
    "\n",
    "def baseline_ma(train_values, horizon, k=7):\n",
    "    avg = float(train_values.tail(k).mean())\n",
    "    return np.repeat(avg, horizon)\n",
    "\n",
    "# Prophet availability\n",
    "try:\n",
    "    from prophet import Prophet\n",
    "    HAS_PROPHET = True\n",
    "except Exception:\n",
    "    HAS_PROPHET = False\n",
    "\n",
    "def prophet_forecast(train_df, horizon_days):\n",
    "    \"\"\"\n",
    "    train_df: columns ['date','y'] (daily)\n",
    "    returns np.array of length horizon_days\n",
    "    \"\"\"\n",
    "    m = Prophet(weekly_seasonality=True, yearly_seasonality=True)\n",
    "    m.fit(train_df.rename(columns={\"date\": \"ds\", \"y\": \"y\"}))\n",
    "    future = m.make_future_dataframe(periods=horizon_days, freq=\"D\")\n",
    "    fc = m.predict(future)\n",
    "    return fc.set_index(\"ds\")[\"yhat\"].tail(horizon_days).values\n"
   ]
  },
  {
   "cell_type": "code",
   "execution_count": 8,
   "id": "22a877ae",
   "metadata": {},
   "outputs": [],
   "source": [
    "# --- Cell 6: LightGBM helper to predict next month and aggregate by day ---\n",
    "import lightgbm as lgb\n",
    "\n",
    "def train_lgbm_and_predict_aggregate(fs, cutoff):\n",
    "    \"\"\"\n",
    "    Fit LightGBM on rows with date <= cutoff;\n",
    "    predict next month; aggregate predictions by day to compare with aggregate actuals.\n",
    "    Returns (y_true_agg, y_pred_agg, model) or (None, None, None) if not enough data.\n",
    "    \"\"\"\n",
    "    val_start = (cutoff + pd.offsets.Day(1)).normalize()\n",
    "    val_end   = (cutoff + pd.offsets.MonthEnd(1)).normalize()\n",
    "\n",
    "    tr = fs[(fs[\"date\"] <= cutoff)].dropna(subset=FEATURES + [TARGET])\n",
    "    va = fs[(fs[\"date\"] >= val_start) & (fs[\"date\"] <= val_end)].dropna(subset=FEATURES + [TARGET])\n",
    "    if tr.empty or va.empty:\n",
    "        return None, None, None\n",
    "\n",
    "    mdl = lgb.LGBMRegressor(\n",
    "        n_estimators=800,\n",
    "        learning_rate=0.05,\n",
    "        subsample=0.9,\n",
    "        colsample_bytree=0.9,\n",
    "        random_state=42\n",
    "    ).fit(tr[FEATURES], tr[TARGET])\n",
    "\n",
    "    yhat = mdl.predict(va[FEATURES]).astype(float)\n",
    "\n",
    "    pred_by_day = va[[\"date\"]].copy()\n",
    "    pred_by_day[\"yhat\"] = yhat\n",
    "    agg_pred = pred_by_day.groupby(\"date\")[\"yhat\"].sum().reindex(\n",
    "        pd.date_range(val_start, val_end, freq=\"D\"), fill_value=np.nan\n",
    "    )\n",
    "\n",
    "    agg_actual = va.groupby(\"date\")[TARGET].sum().reindex(agg_pred.index, fill_value=np.nan)\n",
    "    return agg_actual.values, agg_pred.values, mdl\n"
   ]
  },
  {
   "cell_type": "code",
   "execution_count": 9,
   "id": "473eb48b",
   "metadata": {},
   "outputs": [
    {
     "name": "stderr",
     "output_type": "stream",
     "text": [
      "12:43:52 - cmdstanpy - INFO - Chain [1] start processing\n",
      "12:43:52 - cmdstanpy - INFO - Chain [1] done processing\n"
     ]
    },
    {
     "name": "stdout",
     "output_type": "stream",
     "text": [
      "[LightGBM] [Info] Auto-choosing row-wise multi-threading, the overhead of testing was 0.001852 seconds.\n",
      "You can set `force_row_wise=true` to remove the overhead.\n",
      "And if memory is not enough, you can set `force_col_wise=true`.\n",
      "[LightGBM] [Info] Total Bins 435\n",
      "[LightGBM] [Info] Number of data points in the train set: 4115, number of used features: 12\n",
      "[LightGBM] [Info] Start training from score 1.714945\n"
     ]
    },
    {
     "name": "stderr",
     "output_type": "stream",
     "text": [
      "12:43:55 - cmdstanpy - INFO - Chain [1] start processing\n",
      "12:43:55 - cmdstanpy - INFO - Chain [1] done processing\n"
     ]
    },
    {
     "name": "stdout",
     "output_type": "stream",
     "text": [
      "[LightGBM] [Info] Auto-choosing row-wise multi-threading, the overhead of testing was 0.000178 seconds.\n",
      "You can set `force_row_wise=true` to remove the overhead.\n",
      "And if memory is not enough, you can set `force_col_wise=true`.\n",
      "[LightGBM] [Info] Total Bins 563\n",
      "[LightGBM] [Info] Number of data points in the train set: 8733, number of used features: 12\n",
      "[LightGBM] [Info] Start training from score 1.573457\n"
     ]
    },
    {
     "name": "stderr",
     "output_type": "stream",
     "text": [
      "12:43:56 - cmdstanpy - INFO - Chain [1] start processing\n",
      "12:43:56 - cmdstanpy - INFO - Chain [1] done processing\n"
     ]
    },
    {
     "name": "stdout",
     "output_type": "stream",
     "text": [
      "[LightGBM] [Info] Auto-choosing row-wise multi-threading, the overhead of testing was 0.000251 seconds.\n",
      "You can set `force_row_wise=true` to remove the overhead.\n",
      "And if memory is not enough, you can set `force_col_wise=true`.\n",
      "[LightGBM] [Info] Total Bins 626\n",
      "[LightGBM] [Info] Number of data points in the train set: 14851, number of used features: 12\n",
      "[LightGBM] [Info] Start training from score 1.523197\n"
     ]
    },
    {
     "name": "stderr",
     "output_type": "stream",
     "text": [
      "12:43:58 - cmdstanpy - INFO - Chain [1] start processing\n",
      "12:43:58 - cmdstanpy - INFO - Chain [1] done processing\n"
     ]
    },
    {
     "name": "stdout",
     "output_type": "stream",
     "text": [
      "[LightGBM] [Info] Auto-choosing col-wise multi-threading, the overhead of testing was 0.003250 seconds.\n",
      "You can set `force_col_wise=true` to remove the overhead.\n",
      "[LightGBM] [Info] Total Bins 951\n",
      "[LightGBM] [Info] Number of data points in the train set: 23408, number of used features: 12\n",
      "[LightGBM] [Info] Start training from score 1.713132\n"
     ]
    },
    {
     "name": "stderr",
     "output_type": "stream",
     "text": [
      "12:44:02 - cmdstanpy - INFO - Chain [1] start processing\n",
      "12:44:02 - cmdstanpy - INFO - Chain [1] done processing\n"
     ]
    },
    {
     "name": "stdout",
     "output_type": "stream",
     "text": [
      "[LightGBM] [Info] Auto-choosing col-wise multi-threading, the overhead of testing was 0.003459 seconds.\n",
      "You can set `force_col_wise=true` to remove the overhead.\n",
      "[LightGBM] [Info] Total Bins 1091\n",
      "[LightGBM] [Info] Number of data points in the train set: 35050, number of used features: 12\n",
      "[LightGBM] [Info] Start training from score 1.767732\n"
     ]
    },
    {
     "name": "stderr",
     "output_type": "stream",
     "text": [
      "12:44:05 - cmdstanpy - INFO - Chain [1] start processing\n",
      "12:44:05 - cmdstanpy - INFO - Chain [1] done processing\n"
     ]
    },
    {
     "name": "stdout",
     "output_type": "stream",
     "text": [
      "[LightGBM] [Info] Auto-choosing row-wise multi-threading, the overhead of testing was 0.004136 seconds.\n",
      "You can set `force_row_wise=true` to remove the overhead.\n",
      "And if memory is not enough, you can set `force_col_wise=true`.\n",
      "[LightGBM] [Info] Total Bins 1128\n",
      "[LightGBM] [Info] Number of data points in the train set: 49182, number of used features: 12\n",
      "[LightGBM] [Info] Start training from score 1.752999\n"
     ]
    },
    {
     "name": "stderr",
     "output_type": "stream",
     "text": [
      "12:44:10 - cmdstanpy - INFO - Chain [1] start processing\n",
      "12:44:10 - cmdstanpy - INFO - Chain [1] done processing\n"
     ]
    },
    {
     "name": "stdout",
     "output_type": "stream",
     "text": [
      "[LightGBM] [Info] Auto-choosing col-wise multi-threading, the overhead of testing was 0.015705 seconds.\n",
      "You can set `force_col_wise=true` to remove the overhead.\n",
      "[LightGBM] [Info] Total Bins 1188\n",
      "[LightGBM] [Info] Number of data points in the train set: 63130, number of used features: 12\n",
      "[LightGBM] [Info] Start training from score 1.769048\n"
     ]
    },
    {
     "name": "stderr",
     "output_type": "stream",
     "text": [
      "12:44:15 - cmdstanpy - INFO - Chain [1] start processing\n",
      "12:44:15 - cmdstanpy - INFO - Chain [1] done processing\n"
     ]
    },
    {
     "name": "stdout",
     "output_type": "stream",
     "text": [
      "[LightGBM] [Info] Auto-choosing row-wise multi-threading, the overhead of testing was 0.007867 seconds.\n",
      "You can set `force_row_wise=true` to remove the overhead.\n",
      "And if memory is not enough, you can set `force_col_wise=true`.\n",
      "[LightGBM] [Info] Total Bins 1242\n",
      "[LightGBM] [Info] Number of data points in the train set: 76967, number of used features: 12\n",
      "[LightGBM] [Info] Start training from score 1.758208\n"
     ]
    },
    {
     "name": "stderr",
     "output_type": "stream",
     "text": [
      "12:44:20 - cmdstanpy - INFO - Chain [1] start processing\n",
      "12:44:20 - cmdstanpy - INFO - Chain [1] done processing\n"
     ]
    },
    {
     "name": "stdout",
     "output_type": "stream",
     "text": [
      "[LightGBM] [Info] Auto-choosing col-wise multi-threading, the overhead of testing was 0.009686 seconds.\n",
      "You can set `force_col_wise=true` to remove the overhead.\n",
      "[LightGBM] [Info] Total Bins 1286\n",
      "[LightGBM] [Info] Number of data points in the train set: 92025, number of used features: 12\n",
      "[LightGBM] [Info] Start training from score 1.759076\n"
     ]
    },
    {
     "name": "stderr",
     "output_type": "stream",
     "text": [
      "12:44:26 - cmdstanpy - INFO - Chain [1] start processing\n",
      "12:44:26 - cmdstanpy - INFO - Chain [1] done processing\n"
     ]
    },
    {
     "name": "stdout",
     "output_type": "stream",
     "text": [
      "[LightGBM] [Info] Auto-choosing row-wise multi-threading, the overhead of testing was 0.007553 seconds.\n",
      "You can set `force_row_wise=true` to remove the overhead.\n",
      "And if memory is not enough, you can set `force_col_wise=true`.\n",
      "[LightGBM] [Info] Total Bins 1328\n",
      "[LightGBM] [Info] Number of data points in the train set: 115561, number of used features: 12\n",
      "[LightGBM] [Info] Start training from score 1.784374\n"
     ]
    },
    {
     "name": "stderr",
     "output_type": "stream",
     "text": [
      "12:44:37 - cmdstanpy - INFO - Chain [1] start processing\n",
      "12:44:38 - cmdstanpy - INFO - Chain [1] done processing\n"
     ]
    },
    {
     "name": "stdout",
     "output_type": "stream",
     "text": [
      "[LightGBM] [Info] Auto-choosing row-wise multi-threading, the overhead of testing was 0.018678 seconds.\n",
      "You can set `force_row_wise=true` to remove the overhead.\n",
      "And if memory is not enough, you can set `force_col_wise=true`.\n",
      "[LightGBM] [Info] Total Bins 1349\n",
      "[LightGBM] [Info] Number of data points in the train set: 138153, number of used features: 12\n",
      "[LightGBM] [Info] Start training from score 1.743755\n"
     ]
    },
    {
     "name": "stderr",
     "output_type": "stream",
     "text": [
      "12:44:46 - cmdstanpy - INFO - Chain [1] start processing\n",
      "12:44:46 - cmdstanpy - INFO - Chain [1] done processing\n"
     ]
    },
    {
     "name": "stdout",
     "output_type": "stream",
     "text": [
      "[LightGBM] [Info] Auto-choosing row-wise multi-threading, the overhead of testing was 0.011110 seconds.\n",
      "You can set `force_row_wise=true` to remove the overhead.\n",
      "And if memory is not enough, you can set `force_col_wise=true`.\n",
      "[LightGBM] [Info] Total Bins 1354\n",
      "[LightGBM] [Info] Number of data points in the train set: 159842, number of used features: 12\n",
      "[LightGBM] [Info] Start training from score 1.717446\n"
     ]
    },
    {
     "name": "stderr",
     "output_type": "stream",
     "text": [
      "12:44:54 - cmdstanpy - INFO - Chain [1] start processing\n",
      "12:44:54 - cmdstanpy - INFO - Chain [1] done processing\n"
     ]
    },
    {
     "name": "stdout",
     "output_type": "stream",
     "text": [
      "[LightGBM] [Info] Auto-choosing row-wise multi-threading, the overhead of testing was 0.008674 seconds.\n",
      "You can set `force_row_wise=true` to remove the overhead.\n",
      "And if memory is not enough, you can set `force_col_wise=true`.\n",
      "[LightGBM] [Info] Total Bins 1360\n",
      "[LightGBM] [Info] Number of data points in the train set: 180055, number of used features: 12\n",
      "[LightGBM] [Info] Start training from score 1.695637\n"
     ]
    },
    {
     "name": "stderr",
     "output_type": "stream",
     "text": [
      "12:45:03 - cmdstanpy - INFO - Chain [1] start processing\n",
      "12:45:03 - cmdstanpy - INFO - Chain [1] done processing\n"
     ]
    },
    {
     "name": "stdout",
     "output_type": "stream",
     "text": [
      "[LightGBM] [Info] Auto-choosing row-wise multi-threading, the overhead of testing was 0.012464 seconds.\n",
      "You can set `force_row_wise=true` to remove the overhead.\n",
      "And if memory is not enough, you can set `force_col_wise=true`.\n",
      "[LightGBM] [Info] Total Bins 1363\n",
      "[LightGBM] [Info] Number of data points in the train set: 197273, number of used features: 12\n",
      "[LightGBM] [Info] Start training from score 1.673691\n"
     ]
    },
    {
     "name": "stderr",
     "output_type": "stream",
     "text": [
      "12:45:13 - cmdstanpy - INFO - Chain [1] start processing\n",
      "12:45:13 - cmdstanpy - INFO - Chain [1] done processing\n"
     ]
    },
    {
     "name": "stdout",
     "output_type": "stream",
     "text": [
      "[LightGBM] [Info] Auto-choosing row-wise multi-threading, the overhead of testing was 0.010525 seconds.\n",
      "You can set `force_row_wise=true` to remove the overhead.\n",
      "And if memory is not enough, you can set `force_col_wise=true`.\n",
      "[LightGBM] [Info] Total Bins 1362\n",
      "[LightGBM] [Info] Number of data points in the train set: 215243, number of used features: 12\n",
      "[LightGBM] [Info] Start training from score 1.652305\n"
     ]
    },
    {
     "name": "stderr",
     "output_type": "stream",
     "text": [
      "12:45:23 - cmdstanpy - INFO - Chain [1] start processing\n",
      "12:45:23 - cmdstanpy - INFO - Chain [1] done processing\n"
     ]
    },
    {
     "name": "stdout",
     "output_type": "stream",
     "text": [
      "[LightGBM] [Info] Auto-choosing row-wise multi-threading, the overhead of testing was 0.011868 seconds.\n",
      "You can set `force_row_wise=true` to remove the overhead.\n",
      "And if memory is not enough, you can set `force_col_wise=true`.\n",
      "[LightGBM] [Info] Total Bins 1357\n",
      "[LightGBM] [Info] Number of data points in the train set: 234590, number of used features: 12\n",
      "[LightGBM] [Info] Start training from score 1.635850\n"
     ]
    },
    {
     "name": "stderr",
     "output_type": "stream",
     "text": [
      "12:45:34 - cmdstanpy - INFO - Chain [1] start processing\n",
      "12:45:34 - cmdstanpy - INFO - Chain [1] done processing\n"
     ]
    },
    {
     "name": "stdout",
     "output_type": "stream",
     "text": [
      "[LightGBM] [Info] Auto-choosing row-wise multi-threading, the overhead of testing was 0.021666 seconds.\n",
      "You can set `force_row_wise=true` to remove the overhead.\n",
      "And if memory is not enough, you can set `force_col_wise=true`.\n",
      "[LightGBM] [Info] Total Bins 1378\n",
      "[LightGBM] [Info] Number of data points in the train set: 253948, number of used features: 12\n",
      "[LightGBM] [Info] Start training from score 1.616114\n"
     ]
    },
    {
     "name": "stderr",
     "output_type": "stream",
     "text": [
      "12:45:46 - cmdstanpy - INFO - Chain [1] start processing\n",
      "12:45:46 - cmdstanpy - INFO - Chain [1] done processing\n"
     ]
    },
    {
     "name": "stdout",
     "output_type": "stream",
     "text": [
      "[LightGBM] [Info] Auto-choosing row-wise multi-threading, the overhead of testing was 0.012336 seconds.\n",
      "You can set `force_row_wise=true` to remove the overhead.\n",
      "And if memory is not enough, you can set `force_col_wise=true`.\n",
      "[LightGBM] [Info] Total Bins 1374\n",
      "[LightGBM] [Info] Number of data points in the train set: 277360, number of used features: 12\n",
      "[LightGBM] [Info] Start training from score 1.599066\n"
     ]
    },
    {
     "name": "stderr",
     "output_type": "stream",
     "text": [
      "12:46:00 - cmdstanpy - INFO - Chain [1] start processing\n",
      "12:46:00 - cmdstanpy - INFO - Chain [1] done processing\n"
     ]
    },
    {
     "name": "stdout",
     "output_type": "stream",
     "text": [
      "[LightGBM] [Info] Auto-choosing row-wise multi-threading, the overhead of testing was 0.021961 seconds.\n",
      "You can set `force_row_wise=true` to remove the overhead.\n",
      "And if memory is not enough, you can set `force_col_wise=true`.\n",
      "[LightGBM] [Info] Total Bins 1366\n",
      "[LightGBM] [Info] Number of data points in the train set: 296027, number of used features: 12\n",
      "[LightGBM] [Info] Start training from score 1.597587\n"
     ]
    },
    {
     "name": "stderr",
     "output_type": "stream",
     "text": [
      "12:46:13 - cmdstanpy - INFO - Chain [1] start processing\n",
      "12:46:13 - cmdstanpy - INFO - Chain [1] done processing\n"
     ]
    },
    {
     "name": "stdout",
     "output_type": "stream",
     "text": [
      "[LightGBM] [Info] Auto-choosing row-wise multi-threading, the overhead of testing was 0.023519 seconds.\n",
      "You can set `force_row_wise=true` to remove the overhead.\n",
      "And if memory is not enough, you can set `force_col_wise=true`.\n",
      "[LightGBM] [Info] Total Bins 1348\n",
      "[LightGBM] [Info] Number of data points in the train set: 314369, number of used features: 12\n",
      "[LightGBM] [Info] Start training from score 1.594292\n"
     ]
    },
    {
     "name": "stderr",
     "output_type": "stream",
     "text": [
      "12:46:28 - cmdstanpy - INFO - Chain [1] start processing\n",
      "12:46:28 - cmdstanpy - INFO - Chain [1] done processing\n"
     ]
    },
    {
     "name": "stdout",
     "output_type": "stream",
     "text": [
      "[LightGBM] [Info] Auto-choosing row-wise multi-threading, the overhead of testing was 0.017962 seconds.\n",
      "You can set `force_row_wise=true` to remove the overhead.\n",
      "And if memory is not enough, you can set `force_col_wise=true`.\n",
      "[LightGBM] [Info] Total Bins 1349\n",
      "[LightGBM] [Info] Number of data points in the train set: 334662, number of used features: 12\n",
      "[LightGBM] [Info] Start training from score 1.596602\n"
     ]
    },
    {
     "name": "stderr",
     "output_type": "stream",
     "text": [
      "12:46:42 - cmdstanpy - INFO - Chain [1] start processing\n",
      "12:46:42 - cmdstanpy - INFO - Chain [1] done processing\n"
     ]
    },
    {
     "name": "stdout",
     "output_type": "stream",
     "text": [
      "[LightGBM] [Info] Auto-choosing row-wise multi-threading, the overhead of testing was 0.057147 seconds.\n",
      "You can set `force_row_wise=true` to remove the overhead.\n",
      "And if memory is not enough, you can set `force_col_wise=true`.\n",
      "[LightGBM] [Info] Total Bins 1355\n",
      "[LightGBM] [Info] Number of data points in the train set: 364794, number of used features: 12\n",
      "[LightGBM] [Info] Start training from score 1.608807\n"
     ]
    },
    {
     "name": "stderr",
     "output_type": "stream",
     "text": [
      "12:47:04 - cmdstanpy - INFO - Chain [1] start processing\n",
      "12:47:05 - cmdstanpy - INFO - Chain [1] done processing\n"
     ]
    },
    {
     "name": "stdout",
     "output_type": "stream",
     "text": [
      "[LightGBM] [Info] Auto-choosing row-wise multi-threading, the overhead of testing was 0.026232 seconds.\n",
      "You can set `force_row_wise=true` to remove the overhead.\n",
      "And if memory is not enough, you can set `force_col_wise=true`.\n",
      "[LightGBM] [Info] Total Bins 1362\n",
      "[LightGBM] [Info] Number of data points in the train set: 390387, number of used features: 12\n",
      "[LightGBM] [Info] Start training from score 1.606250\n"
     ]
    },
    {
     "name": "stderr",
     "output_type": "stream",
     "text": [
      "12:47:24 - cmdstanpy - INFO - Chain [1] start processing\n",
      "12:47:25 - cmdstanpy - INFO - Chain [1] done processing\n"
     ]
    },
    {
     "name": "stdout",
     "output_type": "stream",
     "text": [
      "[LightGBM] [Info] Auto-choosing row-wise multi-threading, the overhead of testing was 0.025220 seconds.\n",
      "You can set `force_row_wise=true` to remove the overhead.\n",
      "And if memory is not enough, you can set `force_col_wise=true`.\n",
      "[LightGBM] [Info] Total Bins 1371\n",
      "[LightGBM] [Info] Number of data points in the train set: 410859, number of used features: 12\n",
      "[LightGBM] [Info] Start training from score 1.593126\n"
     ]
    },
    {
     "name": "stderr",
     "output_type": "stream",
     "text": [
      "12:47:49 - cmdstanpy - INFO - Chain [1] start processing\n",
      "12:47:49 - cmdstanpy - INFO - Chain [1] done processing\n"
     ]
    },
    {
     "name": "stdout",
     "output_type": "stream",
     "text": [
      "[LightGBM] [Info] Auto-choosing col-wise multi-threading, the overhead of testing was 0.062177 seconds.\n",
      "You can set `force_col_wise=true` to remove the overhead.\n",
      "[LightGBM] [Info] Total Bins 1371\n",
      "[LightGBM] [Info] Number of data points in the train set: 430260, number of used features: 12\n",
      "[LightGBM] [Info] Start training from score 1.580356\n"
     ]
    },
    {
     "name": "stderr",
     "output_type": "stream",
     "text": [
      "12:48:19 - cmdstanpy - INFO - Chain [1] start processing\n",
      "12:48:19 - cmdstanpy - INFO - Chain [1] done processing\n"
     ]
    },
    {
     "name": "stdout",
     "output_type": "stream",
     "text": [
      "[LightGBM] [Info] Auto-choosing row-wise multi-threading, the overhead of testing was 0.029315 seconds.\n",
      "You can set `force_row_wise=true` to remove the overhead.\n",
      "And if memory is not enough, you can set `force_col_wise=true`.\n",
      "[LightGBM] [Info] Total Bins 1370\n",
      "[LightGBM] [Info] Number of data points in the train set: 445046, number of used features: 12\n",
      "[LightGBM] [Info] Start training from score 1.577334\n"
     ]
    },
    {
     "name": "stderr",
     "output_type": "stream",
     "text": [
      "12:48:49 - cmdstanpy - INFO - Chain [1] start processing\n",
      "12:48:50 - cmdstanpy - INFO - Chain [1] done processing\n"
     ]
    },
    {
     "name": "stdout",
     "output_type": "stream",
     "text": [
      "[LightGBM] [Info] Auto-choosing row-wise multi-threading, the overhead of testing was 0.035324 seconds.\n",
      "You can set `force_row_wise=true` to remove the overhead.\n",
      "And if memory is not enough, you can set `force_col_wise=true`.\n",
      "[LightGBM] [Info] Total Bins 1371\n",
      "[LightGBM] [Info] Number of data points in the train set: 459576, number of used features: 12\n",
      "[LightGBM] [Info] Start training from score 1.574310\n"
     ]
    },
    {
     "name": "stderr",
     "output_type": "stream",
     "text": [
      "12:49:12 - cmdstanpy - INFO - Chain [1] start processing\n",
      "12:49:12 - cmdstanpy - INFO - Chain [1] done processing\n"
     ]
    },
    {
     "name": "stdout",
     "output_type": "stream",
     "text": [
      "[LightGBM] [Info] Auto-choosing row-wise multi-threading, the overhead of testing was 0.030006 seconds.\n",
      "You can set `force_row_wise=true` to remove the overhead.\n",
      "And if memory is not enough, you can set `force_col_wise=true`.\n",
      "[LightGBM] [Info] Total Bins 1374\n",
      "[LightGBM] [Info] Number of data points in the train set: 474114, number of used features: 12\n",
      "[LightGBM] [Info] Start training from score 1.567307\n"
     ]
    },
    {
     "name": "stderr",
     "output_type": "stream",
     "text": [
      "12:49:32 - cmdstanpy - INFO - Chain [1] start processing\n",
      "12:49:32 - cmdstanpy - INFO - Chain [1] done processing\n"
     ]
    },
    {
     "name": "stdout",
     "output_type": "stream",
     "text": [
      "[LightGBM] [Info] Auto-choosing row-wise multi-threading, the overhead of testing was 0.032308 seconds.\n",
      "You can set `force_row_wise=true` to remove the overhead.\n",
      "And if memory is not enough, you can set `force_col_wise=true`.\n",
      "[LightGBM] [Info] Total Bins 1375\n",
      "[LightGBM] [Info] Number of data points in the train set: 488762, number of used features: 12\n",
      "[LightGBM] [Info] Start training from score 1.560193\n"
     ]
    },
    {
     "name": "stderr",
     "output_type": "stream",
     "text": [
      "12:49:54 - cmdstanpy - INFO - Chain [1] start processing\n",
      "12:49:54 - cmdstanpy - INFO - Chain [1] done processing\n"
     ]
    },
    {
     "name": "stdout",
     "output_type": "stream",
     "text": [
      "[LightGBM] [Info] Auto-choosing row-wise multi-threading, the overhead of testing was 0.024560 seconds.\n",
      "You can set `force_row_wise=true` to remove the overhead.\n",
      "And if memory is not enough, you can set `force_col_wise=true`.\n",
      "[LightGBM] [Info] Total Bins 1371\n",
      "[LightGBM] [Info] Number of data points in the train set: 504396, number of used features: 12\n",
      "[LightGBM] [Info] Start training from score 1.553472\n"
     ]
    },
    {
     "name": "stderr",
     "output_type": "stream",
     "text": [
      "12:50:28 - cmdstanpy - INFO - Chain [1] start processing\n",
      "12:50:28 - cmdstanpy - INFO - Chain [1] done processing\n"
     ]
    },
    {
     "name": "stdout",
     "output_type": "stream",
     "text": [
      "[LightGBM] [Info] Auto-choosing col-wise multi-threading, the overhead of testing was 0.083689 seconds.\n",
      "You can set `force_col_wise=true` to remove the overhead.\n",
      "[LightGBM] [Info] Total Bins 1372\n",
      "[LightGBM] [Info] Number of data points in the train set: 517621, number of used features: 12\n",
      "[LightGBM] [Info] Start training from score 1.565858\n",
      "Backtest rows: 155\n"
     ]
    },
    {
     "data": {
      "application/vnd.microsoft.datawrangler.viewer.v0+json": {
       "columns": [
        {
         "name": "index",
         "rawType": "int64",
         "type": "integer"
        },
        {
         "name": "cutoff",
         "rawType": "datetime64[ns]",
         "type": "datetime"
        },
        {
         "name": "model",
         "rawType": "object",
         "type": "string"
        },
        {
         "name": "rmse",
         "rawType": "float64",
         "type": "float"
        },
        {
         "name": "mae",
         "rawType": "float64",
         "type": "float"
        },
        {
         "name": "smape",
         "rawType": "float64",
         "type": "float"
        }
       ],
       "ref": "84080131-61c6-4ff9-85fb-ba15534f6f96",
       "rows": [
        [
         "4",
         "2013-03-31 00:00:00",
         "lightgbm",
         "21.654099055684036",
         "16.721610374855853",
         "7.744582454634622"
        ],
        [
         "2",
         "2013-03-31 00:00:00",
         "ma7",
         "4206.641104528995",
         "4206.057142857144",
         "180.92693307843172"
        ],
        [
         "0",
         "2013-03-31 00:00:00",
         "naive",
         "5146.677290576255",
         "5146.2",
         "184.1222682052235"
        ],
        [
         "3",
         "2013-03-31 00:00:00",
         "prophet",
         "87776.68010190179",
         "63583.17386899819",
         "193.93615945697638"
        ],
        [
         "1",
         "2013-03-31 00:00:00",
         "seasonal_naive",
         "4273.401841624539",
         "4147.3",
         "180.71227488421806"
        ]
       ],
       "shape": {
        "columns": 5,
        "rows": 5
       }
      },
      "text/html": [
       "<div>\n",
       "<style scoped>\n",
       "    .dataframe tbody tr th:only-of-type {\n",
       "        vertical-align: middle;\n",
       "    }\n",
       "\n",
       "    .dataframe tbody tr th {\n",
       "        vertical-align: top;\n",
       "    }\n",
       "\n",
       "    .dataframe thead th {\n",
       "        text-align: right;\n",
       "    }\n",
       "</style>\n",
       "<table border=\"1\" class=\"dataframe\">\n",
       "  <thead>\n",
       "    <tr style=\"text-align: right;\">\n",
       "      <th></th>\n",
       "      <th>cutoff</th>\n",
       "      <th>model</th>\n",
       "      <th>rmse</th>\n",
       "      <th>mae</th>\n",
       "      <th>smape</th>\n",
       "    </tr>\n",
       "  </thead>\n",
       "  <tbody>\n",
       "    <tr>\n",
       "      <th>4</th>\n",
       "      <td>2013-03-31</td>\n",
       "      <td>lightgbm</td>\n",
       "      <td>21.654099</td>\n",
       "      <td>16.721610</td>\n",
       "      <td>7.744582</td>\n",
       "    </tr>\n",
       "    <tr>\n",
       "      <th>2</th>\n",
       "      <td>2013-03-31</td>\n",
       "      <td>ma7</td>\n",
       "      <td>4206.641105</td>\n",
       "      <td>4206.057143</td>\n",
       "      <td>180.926933</td>\n",
       "    </tr>\n",
       "    <tr>\n",
       "      <th>0</th>\n",
       "      <td>2013-03-31</td>\n",
       "      <td>naive</td>\n",
       "      <td>5146.677291</td>\n",
       "      <td>5146.200000</td>\n",
       "      <td>184.122268</td>\n",
       "    </tr>\n",
       "    <tr>\n",
       "      <th>3</th>\n",
       "      <td>2013-03-31</td>\n",
       "      <td>prophet</td>\n",
       "      <td>87776.680102</td>\n",
       "      <td>63583.173869</td>\n",
       "      <td>193.936159</td>\n",
       "    </tr>\n",
       "    <tr>\n",
       "      <th>1</th>\n",
       "      <td>2013-03-31</td>\n",
       "      <td>seasonal_naive</td>\n",
       "      <td>4273.401842</td>\n",
       "      <td>4147.300000</td>\n",
       "      <td>180.712275</td>\n",
       "    </tr>\n",
       "  </tbody>\n",
       "</table>\n",
       "</div>"
      ],
      "text/plain": [
       "      cutoff           model          rmse           mae       smape\n",
       "4 2013-03-31        lightgbm     21.654099     16.721610    7.744582\n",
       "2 2013-03-31             ma7   4206.641105   4206.057143  180.926933\n",
       "0 2013-03-31           naive   5146.677291   5146.200000  184.122268\n",
       "3 2013-03-31         prophet  87776.680102  63583.173869  193.936159\n",
       "1 2013-03-31  seasonal_naive   4273.401842   4147.300000  180.712275"
      ]
     },
     "execution_count": 9,
     "metadata": {},
     "output_type": "execute_result"
    }
   ],
   "source": [
    "# --- Cell 7: rolling backtest ---\n",
    "rows = []\n",
    "models_cache = {}\n",
    "\n",
    "for cutoff in cutoffs:\n",
    "    val_start = (cutoff + pd.offsets.Day(1)).normalize()\n",
    "    val_end   = (cutoff + pd.offsets.MonthEnd(1)).normalize()\n",
    "    horizon   = (val_end - val_start).days + 1\n",
    "\n",
    "    tr_series = series[series[\"date\"] <= cutoff]\n",
    "    va_series = series[(series[\"date\"] >= val_start) & (series[\"date\"] <= val_end)]\n",
    "    if tr_series.empty or va_series.empty:\n",
    "        continue\n",
    "\n",
    "    y_tr = tr_series[\"y\"]\n",
    "    y_va = va_series.set_index(\"date\")[\"y\"].reindex(\n",
    "        pd.date_range(val_start, val_end, freq=\"D\"),\n",
    "        fill_value=0.0\n",
    "    ).values\n",
    "\n",
    "    # Baselines\n",
    "    preds = {\n",
    "        \"naive\": baseline_naive(y_tr, horizon),\n",
    "        \"seasonal_naive\": baseline_seasonal_naive(y_tr, horizon, season=7),\n",
    "        \"ma7\": baseline_ma(y_tr, horizon, k=7),\n",
    "    }\n",
    "\n",
    "    # Prophet\n",
    "    if HAS_PROPHET:\n",
    "        preds[\"prophet\"] = prophet_forecast(tr_series[[\"date\", \"y\"]], horizon)\n",
    "\n",
    "    # LightGBM\n",
    "    y_true_lgb, y_pred_lgb, mdl = train_lgbm_and_predict_aggregate(fs, cutoff)\n",
    "    if y_true_lgb is not None:\n",
    "        preds[\"lightgbm\"] = y_pred_lgb\n",
    "        models_cache[cutoff] = mdl\n",
    "        y_va_used = y_true_lgb  # align to same calendar index\n",
    "    else:\n",
    "        y_va_used = y_va\n",
    "\n",
    "    # Log metrics for each model at this cutoff\n",
    "    for name, pred in preds.items():\n",
    "        rows.append({\n",
    "            \"cutoff\": cutoff,\n",
    "            \"model\": name,\n",
    "            \"rmse\": rmse(y_va_used, pred),\n",
    "            \"mae\": mae(y_va_used, pred),\n",
    "            \"smape\": smape(y_va_used, pred)\n",
    "        })\n",
    "\n",
    "eval_df = pd.DataFrame(rows).sort_values([\"cutoff\", \"model\"])\n",
    "print(f\"Backtest rows: {len(eval_df)}\")\n",
    "eval_df.head()\n"
   ]
  },
  {
   "cell_type": "code",
   "execution_count": 10,
   "id": "49cf2eca",
   "metadata": {},
   "outputs": [
    {
     "data": {
      "image/png": "[encoded data removed]",
      "text/plain": [
       "<Figure size 800x400 with 1 Axes>"
      ]
     },
     "metadata": {},
     "output_type": "display_data"
    },
    {
     "data": {
      "image/png": "[encoded data removed]",
      "text/plain": [
       "<Figure size 1000x400 with 1 Axes>"
      ]
     },
     "metadata": {},
     "output_type": "display_data"
    }
   ],
   "source": [
    "# --- Cell 8: summary tables & plots ---\n",
    "summary = (\n",
    "    eval_df.groupby(\"model\", as_index=False)[[\"rmse\", \"mae\", \"smape\"]]\n",
    "           .mean()\n",
    "           .sort_values(\"smape\")\n",
    ")\n",
    "summary\n",
    "\n",
    "# Lift vs seasonal-naive\n",
    "baseline_smape = summary.loc[summary[\"model\"] == \"seasonal_naive\", \"smape\"].values[0]\n",
    "summary[\"smape_lift_vs_seasonal\"] = baseline_smape - summary[\"smape\"]\n",
    "summary\n",
    "\n",
    "# Avg sMAPE bar\n",
    "plt.figure(figsize=(8,4))\n",
    "plt.bar(summary[\"model\"], summary[\"smape\"])\n",
    "plt.ylabel(\"Avg sMAPE (lower is better)\")\n",
    "plt.title(\"Rolling Backtest — Average sMAPE by Model\")\n",
    "plt.xticks(rotation=15)\n",
    "plt.show()\n",
    "\n",
    "# Stability across months\n",
    "pivot = eval_df.pivot(index=\"cutoff\", columns=\"model\", values=\"smape\").sort_index()\n",
    "pivot.plot(figsize=(10,4), marker=\"o\")\n",
    "plt.ylabel(\"sMAPE by month\")\n",
    "plt.title(\"Rolling sMAPE by Cutoff\")\n",
    "plt.show()\n"
   ]
  },
  {
   "cell_type": "code",
   "execution_count": 11,
   "id": "5dec9c3f",
   "metadata": {},
   "outputs": [
    {
     "name": "stdout",
     "output_type": "stream",
     "text": [
      "✅ Wrote 155 backtest rows to retail-alpha-forecaster.raf.backtests\n"
     ]
    }
   ],
   "source": [
    "# --- Cell 9: write backtests to BigQuery (optional) ---\n",
    "from datetime import timezone\n",
    "\n",
    "bt_table = f\"{BQ_PROJECT}.{BQ_DATASET}.backtests\"\n",
    "\n",
    "bt_schema = [\n",
    "    bigquery.SchemaField(\"cutoff\",\"DATE\"),\n",
    "    bigquery.SchemaField(\"model\",\"STRING\"),\n",
    "    bigquery.SchemaField(\"rmse\",\"FLOAT64\"),\n",
    "    bigquery.SchemaField(\"mae\",\"FLOAT64\"),\n",
    "    bigquery.SchemaField(\"smape\",\"FLOAT64\"),\n",
    "    bigquery.SchemaField(\"created_at\",\"TIMESTAMP\"),\n",
    "]\n",
    "\n",
    "bt_out = eval_df.copy()\n",
    "bt_out[\"cutoff\"] = pd.to_datetime(bt_out[\"cutoff\"]).dt.date\n",
    "bt_out[\"created_at\"] = pd.Timestamp.now(tz=timezone.utc)  # correct tz usage\n",
    "\n",
    "# Create table if missing\n",
    "try:\n",
    "    client.get_table(bt_table)\n",
    "except Exception:\n",
    "    client.create_table(bigquery.Table(bt_table, schema=bt_schema))\n",
    "\n",
    "client.load_table_from_dataframe(\n",
    "    bt_out, bt_table,\n",
    "    job_config=bigquery.LoadJobConfig(write_disposition=\"WRITE_APPEND\"),\n",
    "    location=BQ_LOCATION\n",
    ").result()\n",
    "\n",
    "print(f\"✅ Wrote {len(bt_out):,} backtest rows to {bt_table}\")\n"
   ]
  }
 ],
 "metadata": {
  "kernelspec": {
   "display_name": ".venv",
   "language": "python",
   "name": "python3"
  },
  "language_info": {
   "codemirror_mode": {
    "name": "ipython",
    "version": 3
   },
   "file_extension": ".py",
   "mimetype": "text/x-python",
   "name": "python",
   "nbconvert_exporter": "python",
   "pygments_lexer": "ipython3",
   "version": "3.10.12"
  }
 },
 "nbformat": 4,
 "nbformat_minor": 5
}
