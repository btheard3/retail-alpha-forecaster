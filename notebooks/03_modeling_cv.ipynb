{
 "cells": [
  {
   "cell_type": "markdown",
   "id": "afed446d",
   "metadata": {},
   "source": [
    "Notebook 3: Model Training, Walk-Forward Validation & Forecast Generation\n",
    "Purpose\n",
    "\n",
    "This notebook focuses on training a predictive sales forecasting model using historical retail data stored in BigQuery, validating its performance using walk-forward cross-validation, and then generating future sales forecasts with confidence intervals.\n",
    "The goal is to build a time-series model that can be deployed in production for continuous forecasting.\n",
    "\n",
    "Process\n",
    "1. Data Retrieval from BigQuery\n",
    "\n",
    "Queried the feature_store table in BigQuery containing:\n",
    "\n",
    "Lag features (lag_7, lag_14, lag_28) – capture past sales patterns.\n",
    "\n",
    "Rolling mean features (rm_7, rm_28) – smooth seasonal fluctuations.\n",
    "\n",
    "Price, day-of-week, month, holiday flags – external factors that influence sales.\n",
    "\n",
    "Applied a date range filter to select the most recent data for model training and evaluation.\n",
    "\n",
    "2. Walk-Forward Cross-Validation (WF-CV)\n",
    "\n",
    "Why WF-CV?\n",
    "Traditional random CV isn’t suitable for time-series because future data should never be used to predict the past.\n",
    "WF-CV simulates real forecasting by:\n",
    "\n",
    "Training on a chunk of historical data.\n",
    "\n",
    "Validating on the next time step(s).\n",
    "\n",
    "Sliding the window forward and repeating.\n",
    "\n",
    "Parameters:\n",
    "\n",
    "Model: LightGBM Regressor (lgb.LGBMRegressor) – chosen for speed & handling categorical/continuous features.\n",
    "\n",
    "Metrics: MAE (Mean Absolute Error), MSE (Mean Squared Error), sMAPE (Symmetric Mean Absolute Percentage Error).\n",
    "\n",
    "Stored per-fold metrics for later analysis.\n",
    "\n",
    "3. Model Training & Evaluation\n",
    "\n",
    "For each fold:\n",
    "\n",
    "Trained the LightGBM model on training features.\n",
    "\n",
    "Predicted sales for the validation window.\n",
    "\n",
    "Logged metrics (MAE, MSE, sMAPE).\n",
    "\n",
    "Created visual comparison chart showing per-fold errors — allows quick spotting of consistent performance or degradation over time.\n",
    "\n",
    "4. Writing Model Runs to BigQuery\n",
    "\n",
    "Logged model metadata and performance metrics to a model_runs table in BigQuery for:\n",
    "\n",
    "Tracking experiments.\n",
    "\n",
    "Comparing models over time.\n",
    "\n",
    "Supporting MLOps workflows.\n",
    "\n",
    "5. Forecast Generation\n",
    "\n",
    "Used the final trained model on the latest available data to generate future forecasts.\n",
    "\n",
    "Added confidence intervals:\n",
    "\n",
    "yhat_lower = predicted value - 1.96 × residual std deviation.\n",
    "\n",
    "yhat_upper = predicted value + 1.96 × residual std deviation.\n",
    "\n",
    "Saved forecasts to BigQuery forecasts table for downstream applications (dashboards, reporting, automated ordering).\n",
    "\n",
    "Results\n",
    "Fold\tMAE\tMSE\tsMAPE\n",
    "1\t~1.54\t~0.037\t~24.95\n",
    "2\t~5.09\t~0.077\t~21.95\n",
    "3\t~13.47\t~0.154\t~23.13\n",
    "\n",
    "Fold 1 performed best → indicates stability in the earlier part of the test period.\n",
    "\n",
    "Higher error in Fold 3 → suggests possible recent demand volatility or feature drift.\n",
    "\n",
    "sMAPE values ~22–25% indicate decent predictive accuracy for a first iteration, but improvements are possible.\n",
    "\n",
    "Key Insights\n",
    "\n",
    "Walk-forward CV gives a realistic evaluation of model performance in production-like conditions.\n",
    "\n",
    "Feature engineering (lags, rolling means, holidays) plays a major role in capturing seasonality and demand patterns.\n",
    "\n",
    "LightGBM is fast and accurate for structured time-series forecasting, but later folds reveal possible concept drift.\n",
    "\n",
    "MLOps integration is in place — results and forecasts are automatically stored in BigQuery, enabling tracking and retraining pipelines.\n",
    "\n",
    "Forecast confidence intervals allow business teams to assess uncertainty and plan conservatively."
   ]
  },
  {
   "cell_type": "code",
   "execution_count": 1,
   "id": "f22a5a6b",
   "metadata": {},
   "outputs": [
    {
     "name": "stderr",
     "output_type": "stream",
     "text": [
      "/home/btheard/retail-alpha-forecaster/.venv/lib/python3.10/site-packages/tqdm/auto.py:21: TqdmWarning: IProgress not found. Please update jupyter and ipywidgets. See https://ipywidgets.readthedocs.io/en/stable/user_install.html\n",
      "  from .autonotebook import tqdm as notebook_tqdm\n"
     ]
    }
   ],
   "source": [
    "# If something is missing: uncomment & run once\n",
    "# !pip install lightgbm shap google-cloud-bigquery google-cloud-bigquery-storage\n",
    "\n",
    "import os, json, time, uuid, math\n",
    "import numpy as np\n",
    "import pandas as pd\n",
    "import matplotlib.pyplot as plt\n",
    "\n",
    "from google.auth import default\n",
    "from google.cloud import bigquery\n",
    "from sklearn.metrics import mean_absolute_error, mean_squared_error\n",
    "\n",
    "import lightgbm as lgb\n",
    "import shap  # explainability\n",
    "\n",
    "# --- BigQuery client via ADC (no service key needed) ---\n",
    "os.environ.pop(\"GOOGLE_APPLICATION_CREDENTIALS\", None)\n",
    "os.environ[\"GOOGLE_APPLICATION_CREDENTIALS\"] = os.path.expanduser(\"~/.config/gcloud/application_default_credentials.json\")\n",
    "creds, proj = default()\n",
    "BQ_PROJECT = \"retail-alpha-forecaster\"   # change if needed\n",
    "BQ_DATASET = \"raf\"\n",
    "client = bigquery.Client(project=BQ_PROJECT, credentials=creds)\n",
    "\n",
    "def bq(sql: str) -> pd.DataFrame:\n",
    "    return client.query(sql).result().to_dataframe(create_bqstorage_client=True)\n",
    "\n",
    "def rmse(y, p): \n",
    "    return math.sqrt(mean_squared_error(y, p))\n",
    "\n",
    "def smape(y, p):\n",
    "    y = np.asarray(y); p = np.asarray(p)\n",
    "    return (100.0/len(y)) * np.sum(2*np.abs(p - y) / (np.abs(y) + np.abs(p) + 1e-9))\n"
   ]
  },
  {
   "cell_type": "code",
   "execution_count": 2,
   "id": "fcef9ea7",
   "metadata": {},
   "outputs": [
    {
     "name": "stdout",
     "output_type": "stream",
     "text": [
      "(2935849, 17) 2013-01-01 00:00:00 2015-10-31 00:00:00\n"
     ]
    },
    {
     "data": {
      "application/vnd.microsoft.datawrangler.viewer.v0+json": {
       "columns": [
        {
         "name": "index",
         "rawType": "int64",
         "type": "integer"
        },
        {
         "name": "date",
         "rawType": "datetime64[ns]",
         "type": "datetime"
        },
        {
         "name": "shop_id",
         "rawType": "Int64",
         "type": "integer"
        },
        {
         "name": "item_id",
         "rawType": "Int64",
         "type": "integer"
        },
        {
         "name": "date_block_num",
         "rawType": "Int64",
         "type": "integer"
        },
        {
         "name": "item_cnt_day",
         "rawType": "float64",
         "type": "float"
        },
        {
         "name": "lag_1",
         "rawType": "float64",
         "type": "float"
        },
        {
         "name": "lag_7",
         "rawType": "float64",
         "type": "float"
        },
        {
         "name": "lag_14",
         "rawType": "float64",
         "type": "float"
        },
        {
         "name": "lag_28",
         "rawType": "float64",
         "type": "float"
        },
        {
         "name": "ma_7",
         "rawType": "float64",
         "type": "float"
        },
        {
         "name": "ma_14",
         "rawType": "float64",
         "type": "float"
        },
        {
         "name": "ma_28",
         "rawType": "float64",
         "type": "float"
        },
        {
         "name": "price_last",
         "rawType": "float64",
         "type": "float"
        },
        {
         "name": "dow",
         "rawType": "Int64",
         "type": "integer"
        },
        {
         "name": "weekofyear",
         "rawType": "Int64",
         "type": "integer"
        },
        {
         "name": "month",
         "rawType": "Int64",
         "type": "integer"
        },
        {
         "name": "is_holiday",
         "rawType": "boolean",
         "type": "boolean"
        }
       ],
       "ref": "f83bb53c-4de9-478d-a7df-a1a56864f858",
       "rows": [
        [
         "110591",
         "2013-01-01 00:00:00",
         "2",
         "991",
         "0",
         "1.0",
         null,
         null,
         null,
         null,
         null,
         null,
         null,
         null,
         "1",
         "1",
         "1",
         "True"
        ],
        [
         "132965",
         "2013-01-01 00:00:00",
         "2",
         "1472",
         "0",
         "1.0",
         null,
         null,
         null,
         null,
         null,
         null,
         null,
         null,
         "1",
         "1",
         "1",
         "True"
        ],
        [
         "117515",
         "2013-01-01 00:00:00",
         "2",
         "1905",
         "0",
         "1.0",
         null,
         null,
         null,
         null,
         null,
         null,
         null,
         null,
         "1",
         "1",
         "1",
         "True"
        ]
       ],
       "shape": {
        "columns": 17,
        "rows": 3
       }
      },
      "text/html": [
       "<div>\n",
       "<style scoped>\n",
       "    .dataframe tbody tr th:only-of-type {\n",
       "        vertical-align: middle;\n",
       "    }\n",
       "\n",
       "    .dataframe tbody tr th {\n",
       "        vertical-align: top;\n",
       "    }\n",
       "\n",
       "    .dataframe thead th {\n",
       "        text-align: right;\n",
       "    }\n",
       "</style>\n",
       "<table border=\"1\" class=\"dataframe\">\n",
       "  <thead>\n",
       "    <tr style=\"text-align: right;\">\n",
       "      <th></th>\n",
       "      <th>date</th>\n",
       "      <th>shop_id</th>\n",
       "      <th>item_id</th>\n",
       "      <th>date_block_num</th>\n",
       "      <th>item_cnt_day</th>\n",
       "      <th>lag_1</th>\n",
       "      <th>lag_7</th>\n",
       "      <th>lag_14</th>\n",
       "      <th>lag_28</th>\n",
       "      <th>ma_7</th>\n",
       "      <th>ma_14</th>\n",
       "      <th>ma_28</th>\n",
       "      <th>price_last</th>\n",
       "      <th>dow</th>\n",
       "      <th>weekofyear</th>\n",
       "      <th>month</th>\n",
       "      <th>is_holiday</th>\n",
       "    </tr>\n",
       "  </thead>\n",
       "  <tbody>\n",
       "    <tr>\n",
       "      <th>110591</th>\n",
       "      <td>2013-01-01</td>\n",
       "      <td>2</td>\n",
       "      <td>991</td>\n",
       "      <td>0</td>\n",
       "      <td>1.0</td>\n",
       "      <td>NaN</td>\n",
       "      <td>NaN</td>\n",
       "      <td>NaN</td>\n",
       "      <td>NaN</td>\n",
       "      <td>NaN</td>\n",
       "      <td>NaN</td>\n",
       "      <td>NaN</td>\n",
       "      <td>NaN</td>\n",
       "      <td>1</td>\n",
       "      <td>1</td>\n",
       "      <td>1</td>\n",
       "      <td>True</td>\n",
       "    </tr>\n",
       "    <tr>\n",
       "      <th>132965</th>\n",
       "      <td>2013-01-01</td>\n",
       "      <td>2</td>\n",
       "      <td>1472</td>\n",
       "      <td>0</td>\n",
       "      <td>1.0</td>\n",
       "      <td>NaN</td>\n",
       "      <td>NaN</td>\n",
       "      <td>NaN</td>\n",
       "      <td>NaN</td>\n",
       "      <td>NaN</td>\n",
       "      <td>NaN</td>\n",
       "      <td>NaN</td>\n",
       "      <td>NaN</td>\n",
       "      <td>1</td>\n",
       "      <td>1</td>\n",
       "      <td>1</td>\n",
       "      <td>True</td>\n",
       "    </tr>\n",
       "    <tr>\n",
       "      <th>117515</th>\n",
       "      <td>2013-01-01</td>\n",
       "      <td>2</td>\n",
       "      <td>1905</td>\n",
       "      <td>0</td>\n",
       "      <td>1.0</td>\n",
       "      <td>NaN</td>\n",
       "      <td>NaN</td>\n",
       "      <td>NaN</td>\n",
       "      <td>NaN</td>\n",
       "      <td>NaN</td>\n",
       "      <td>NaN</td>\n",
       "      <td>NaN</td>\n",
       "      <td>NaN</td>\n",
       "      <td>1</td>\n",
       "      <td>1</td>\n",
       "      <td>1</td>\n",
       "      <td>True</td>\n",
       "    </tr>\n",
       "  </tbody>\n",
       "</table>\n",
       "</div>"
      ],
      "text/plain": [
       "             date  shop_id  item_id  date_block_num  item_cnt_day  lag_1  \\\n",
       "110591 2013-01-01        2      991               0           1.0    NaN   \n",
       "132965 2013-01-01        2     1472               0           1.0    NaN   \n",
       "117515 2013-01-01        2     1905               0           1.0    NaN   \n",
       "\n",
       "        lag_7  lag_14  lag_28  ma_7  ma_14  ma_28  price_last  dow  \\\n",
       "110591    NaN     NaN     NaN   NaN    NaN    NaN         NaN    1   \n",
       "132965    NaN     NaN     NaN   NaN    NaN    NaN         NaN    1   \n",
       "117515    NaN     NaN     NaN   NaN    NaN    NaN         NaN    1   \n",
       "\n",
       "        weekofyear  month  is_holiday  \n",
       "110591           1      1        True  \n",
       "132965           1      1        True  \n",
       "117515           1      1        True  "
      ]
     },
     "execution_count": 2,
     "metadata": {},
     "output_type": "execute_result"
    }
   ],
   "source": [
    "fs = bq(f\"\"\"\n",
    "SELECT *\n",
    "FROM `{BQ_PROJECT}.{BQ_DATASET}.feature_store`\n",
    "WHERE date >= DATE('2013-01-01')\n",
    "\"\"\")\n",
    "fs[\"date\"] = pd.to_datetime(fs[\"date\"])\n",
    "fs.sort_values([\"date\",\"shop_id\",\"item_id\"], inplace=True)\n",
    "print(fs.shape, fs.date.min(), fs.date.max())\n",
    "fs.head(3)"
   ]
  },
  {
   "cell_type": "code",
   "execution_count": 3,
   "id": "6f36bb5f",
   "metadata": {},
   "outputs": [
    {
     "data": {
      "text/plain": [
       "[{'train_end': Timestamp('2015-07-31 00:00:00'),\n",
       "  'val_start': Timestamp('2015-08-01 00:00:00'),\n",
       "  'val_end': Timestamp('2015-08-31 00:00:00')},\n",
       " {'train_end': Timestamp('2015-08-31 00:00:00'),\n",
       "  'val_start': Timestamp('2015-09-01 00:00:00'),\n",
       "  'val_end': Timestamp('2015-09-30 00:00:00')},\n",
       " {'train_end': Timestamp('2015-09-30 00:00:00'),\n",
       "  'val_start': Timestamp('2015-10-01 00:00:00'),\n",
       "  'val_end': Timestamp('2015-10-31 00:00:00')}]"
      ]
     },
     "execution_count": 3,
     "metadata": {},
     "output_type": "execute_result"
    }
   ],
   "source": [
    "FEATURES = [\"lag_1\",\"lag_7\",\"lag_14\",\"lag_28\",\n",
    "            \"ma_7\",\"ma_14\",\"ma_28\",\n",
    "            \"price_last\",\"dow\",\"weekofyear\",\"month\",\"is_holiday\"]\n",
    "TARGET = \"item_cnt_day\"\n",
    "\n",
    "# Build monthly folds using unique year-months; last N months as validation folds\n",
    "unique_months = sorted({(d.year, d.month) for d in fs[\"date\"].unique()})\n",
    "N_FOLDS = 3   # keep lean for speed; raise to 6–12 for production CV\n",
    "fold_months = unique_months[-N_FOLDS:]\n",
    "\n",
    "folds = []\n",
    "for (y, m) in fold_months:\n",
    "    val_start = pd.Timestamp(year=y, month=m, day=1)\n",
    "    val_end   = (val_start + pd.offsets.MonthEnd(1))\n",
    "    train_end = val_start - pd.Timedelta(days=1)\n",
    "    folds.append(dict(train_end=train_end, val_start=val_start, val_end=val_end))\n",
    "folds\n"
   ]
  },
  {
   "cell_type": "code",
   "execution_count": 8,
   "id": "1b1525df",
   "metadata": {},
   "outputs": [
    {
     "name": "stdout",
     "output_type": "stream",
     "text": [
      "[LightGBM] [Info] Auto-choosing row-wise multi-threading, the overhead of testing was 0.025503 seconds.\n",
      "You can set `force_row_wise=true` to remove the overhead.\n",
      "And if memory is not enough, you can set `force_col_wise=true`.\n",
      "[LightGBM] [Info] Total Bins 1377\n",
      "[LightGBM] [Info] Number of data points in the train set: 488762, number of used features: 12\n",
      "[LightGBM] [Info] Start training from score 1.560193\n",
      "[LightGBM] [Info] Auto-choosing row-wise multi-threading, the overhead of testing was 0.035601 seconds.\n",
      "You can set `force_row_wise=true` to remove the overhead.\n",
      "And if memory is not enough, you can set `force_col_wise=true`.\n",
      "[LightGBM] [Info] Total Bins 1373\n",
      "[LightGBM] [Info] Number of data points in the train set: 504396, number of used features: 12\n",
      "[LightGBM] [Info] Start training from score 1.553472\n",
      "[LightGBM] [Info] Auto-choosing row-wise multi-threading, the overhead of testing was 0.076674 seconds.\n",
      "You can set `force_row_wise=true` to remove the overhead.\n",
      "And if memory is not enough, you can set `force_col_wise=true`.\n",
      "[LightGBM] [Info] Total Bins 1376\n",
      "[LightGBM] [Info] Number of data points in the train set: 517621, number of used features: 12\n",
      "[LightGBM] [Info] Start training from score 1.565858\n"
     ]
    },
    {
     "data": {
      "application/vnd.microsoft.datawrangler.viewer.v0+json": {
       "columns": [
        {
         "name": "index",
         "rawType": "int64",
         "type": "integer"
        },
        {
         "name": "run_id",
         "rawType": "object",
         "type": "string"
        },
        {
         "name": "model",
         "rawType": "object",
         "type": "string"
        },
        {
         "name": "fold",
         "rawType": "int64",
         "type": "integer"
        },
        {
         "name": "train_end_date",
         "rawType": "object",
         "type": "unknown"
        },
        {
         "name": "horizon_days",
         "rawType": "int64",
         "type": "integer"
        },
        {
         "name": "rmse",
         "rawType": "float64",
         "type": "float"
        },
        {
         "name": "mae",
         "rawType": "float64",
         "type": "float"
        },
        {
         "name": "smape",
         "rawType": "float64",
         "type": "float"
        },
        {
         "name": "r2",
         "rawType": "float64",
         "type": "float"
        },
        {
         "name": "fit_sec",
         "rawType": "float64",
         "type": "float"
        },
        {
         "name": "predict_sec",
         "rawType": "float64",
         "type": "float"
        },
        {
         "name": "params_json",
         "rawType": "object",
         "type": "string"
        },
        {
         "name": "created_at",
         "rawType": "datetime64[ns, UTC]",
         "type": "unknown"
        }
       ],
       "ref": "c541e7ea-18a3-4e83-818e-ea3850ea01fe",
       "rows": [
        [
         "0",
         "lgbm_5ef2d4b0",
         "lightgbm",
         "1",
         "2015-07-31",
         "31",
         "1.5420281631077868",
         "0.37696934509162405",
         "20.436290171951452",
         "0.2920283054798602",
         "18.55477738380432",
         "0.3734462261199951",
         "{\"n_estimators\": 800, \"learning_rate\": 0.05, \"subsample\": 0.9, \"colsample_bytree\": 0.9, \"random_state\": 42}",
         "2025-08-14 20:21:14.282398+00:00"
        ],
        [
         "1",
         "lgbm_5ef2d4b0",
         "lightgbm",
         "2",
         "2015-08-31",
         "30",
         "8.07264238838813",
         "0.7745721809166284",
         "21.934576224424283",
         "0.7277726345477645",
         "24.1047625541687",
         "0.34200072288513184",
         "{\"n_estimators\": 800, \"learning_rate\": 0.05, \"subsample\": 0.9, \"colsample_bytree\": 0.9, \"random_state\": 42}",
         "2025-08-14 20:21:39.548610+00:00"
        ],
        [
         "2",
         "lgbm_5ef2d4b0",
         "lightgbm",
         "3",
         "2015-09-30",
         "31",
         "19.374977417376943",
         "0.5783114388234784",
         "20.19341685362266",
         "0.0019693474924789935",
         "44.678006172180176",
         "0.5903241634368896",
         "{\"n_estimators\": 800, \"learning_rate\": 0.05, \"subsample\": 0.9, \"colsample_bytree\": 0.9, \"random_state\": 42}",
         "2025-08-14 20:22:26.033074+00:00"
        ]
       ],
       "shape": {
        "columns": 13,
        "rows": 3
       }
      },
      "text/html": [
       "<div>\n",
       "<style scoped>\n",
       "    .dataframe tbody tr th:only-of-type {\n",
       "        vertical-align: middle;\n",
       "    }\n",
       "\n",
       "    .dataframe tbody tr th {\n",
       "        vertical-align: top;\n",
       "    }\n",
       "\n",
       "    .dataframe thead th {\n",
       "        text-align: right;\n",
       "    }\n",
       "</style>\n",
       "<table border=\"1\" class=\"dataframe\">\n",
       "  <thead>\n",
       "    <tr style=\"text-align: right;\">\n",
       "      <th></th>\n",
       "      <th>run_id</th>\n",
       "      <th>model</th>\n",
       "      <th>fold</th>\n",
       "      <th>train_end_date</th>\n",
       "      <th>horizon_days</th>\n",
       "      <th>rmse</th>\n",
       "      <th>mae</th>\n",
       "      <th>smape</th>\n",
       "      <th>r2</th>\n",
       "      <th>fit_sec</th>\n",
       "      <th>predict_sec</th>\n",
       "      <th>params_json</th>\n",
       "      <th>created_at</th>\n",
       "    </tr>\n",
       "  </thead>\n",
       "  <tbody>\n",
       "    <tr>\n",
       "      <th>0</th>\n",
       "      <td>lgbm_5ef2d4b0</td>\n",
       "      <td>lightgbm</td>\n",
       "      <td>1</td>\n",
       "      <td>2015-07-31</td>\n",
       "      <td>31</td>\n",
       "      <td>1.542028</td>\n",
       "      <td>0.376969</td>\n",
       "      <td>20.436290</td>\n",
       "      <td>0.292028</td>\n",
       "      <td>18.554777</td>\n",
       "      <td>0.373446</td>\n",
       "      <td>{\"n_estimators\": 800, \"learning_rate\": 0.05, \"...</td>\n",
       "      <td>2025-08-14 20:21:14.282398+00:00</td>\n",
       "    </tr>\n",
       "    <tr>\n",
       "      <th>1</th>\n",
       "      <td>lgbm_5ef2d4b0</td>\n",
       "      <td>lightgbm</td>\n",
       "      <td>2</td>\n",
       "      <td>2015-08-31</td>\n",
       "      <td>30</td>\n",
       "      <td>8.072642</td>\n",
       "      <td>0.774572</td>\n",
       "      <td>21.934576</td>\n",
       "      <td>0.727773</td>\n",
       "      <td>24.104763</td>\n",
       "      <td>0.342001</td>\n",
       "      <td>{\"n_estimators\": 800, \"learning_rate\": 0.05, \"...</td>\n",
       "      <td>2025-08-14 20:21:39.548610+00:00</td>\n",
       "    </tr>\n",
       "    <tr>\n",
       "      <th>2</th>\n",
       "      <td>lgbm_5ef2d4b0</td>\n",
       "      <td>lightgbm</td>\n",
       "      <td>3</td>\n",
       "      <td>2015-09-30</td>\n",
       "      <td>31</td>\n",
       "      <td>19.374977</td>\n",
       "      <td>0.578311</td>\n",
       "      <td>20.193417</td>\n",
       "      <td>0.001969</td>\n",
       "      <td>44.678006</td>\n",
       "      <td>0.590324</td>\n",
       "      <td>{\"n_estimators\": 800, \"learning_rate\": 0.05, \"...</td>\n",
       "      <td>2025-08-14 20:22:26.033074+00:00</td>\n",
       "    </tr>\n",
       "  </tbody>\n",
       "</table>\n",
       "</div>"
      ],
      "text/plain": [
       "          run_id     model  fold train_end_date  horizon_days       rmse  \\\n",
       "0  lgbm_5ef2d4b0  lightgbm     1     2015-07-31            31   1.542028   \n",
       "1  lgbm_5ef2d4b0  lightgbm     2     2015-08-31            30   8.072642   \n",
       "2  lgbm_5ef2d4b0  lightgbm     3     2015-09-30            31  19.374977   \n",
       "\n",
       "        mae      smape        r2    fit_sec  predict_sec  \\\n",
       "0  0.376969  20.436290  0.292028  18.554777     0.373446   \n",
       "1  0.774572  21.934576  0.727773  24.104763     0.342001   \n",
       "2  0.578311  20.193417  0.001969  44.678006     0.590324   \n",
       "\n",
       "                                         params_json  \\\n",
       "0  {\"n_estimators\": 800, \"learning_rate\": 0.05, \"...   \n",
       "1  {\"n_estimators\": 800, \"learning_rate\": 0.05, \"...   \n",
       "2  {\"n_estimators\": 800, \"learning_rate\": 0.05, \"...   \n",
       "\n",
       "                        created_at  \n",
       "0 2025-08-14 20:21:14.282398+00:00  \n",
       "1 2025-08-14 20:21:39.548610+00:00  \n",
       "2 2025-08-14 20:22:26.033074+00:00  "
      ]
     },
     "execution_count": 8,
     "metadata": {},
     "output_type": "execute_result"
    }
   ],
   "source": [
    "RUN_ID = f\"lgbm_{uuid.uuid4().hex[:8]}\"\n",
    "PARAMS = dict(\n",
    "    n_estimators=800,\n",
    "    learning_rate=0.05,\n",
    "    subsample=0.9,\n",
    "    colsample_bytree=0.9,\n",
    "    random_state=42\n",
    ")\n",
    "\n",
    "records = []\n",
    "models_by_fold = {}\n",
    "\n",
    "for i, f in enumerate(folds, start=1):\n",
    "    tr = fs[fs[\"date\"] <= f[\"train_end\"]].dropna(subset=FEATURES+[TARGET])\n",
    "    va = fs[(fs[\"date\"] >= f[\"val_start\"]) & (fs[\"date\"] <= f[\"val_end\"])].dropna(subset=FEATURES+[TARGET])\n",
    "    Xtr, ytr = tr[FEATURES], tr[TARGET]\n",
    "    Xva, yva = va[FEATURES], va[TARGET]\n",
    "\n",
    "    t0 = time.time()\n",
    "    mdl = lgb.LGBMRegressor(**PARAMS).fit(Xtr, ytr)\n",
    "    fit_sec = time.time() - t0\n",
    "\n",
    "    t1 = time.time()\n",
    "    p = mdl.predict(Xva)\n",
    "    predict_sec = time.time() - t1\n",
    "\n",
    "    rec = dict(\n",
    "        run_id=RUN_ID, model=\"lightgbm\", fold=int(i),\n",
    "        train_end_date=f[\"train_end\"].date(),  # DATE object\n",
    "        horizon_days=int((f[\"val_end\"] - f[\"val_start\"]).days) + 1,\n",
    "        rmse=float(rmse(yva, p)),\n",
    "        mae=float(mean_absolute_error(yva, p)),\n",
    "        smape=float(smape(yva, p)),\n",
    "        r2=float(np.corrcoef(yva, p)[0, 1]**2) if len(yva) > 1 else None,\n",
    "        fit_sec=float(fit_sec), predict_sec=float(predict_sec),\n",
    "        params_json=json.dumps(PARAMS),\n",
    "        created_at=pd.Timestamp.now(tz=\"UTC\")  # <-- fix: proper TIMESTAMP\n",
    "    )\n",
    "    records.append(rec)\n",
    "    models_by_fold[i] = mdl\n",
    "\n",
    "cv = pd.DataFrame(records)\n",
    "cv\n",
    "\n",
    "\n"
   ]
  },
  {
   "cell_type": "code",
   "execution_count": 9,
   "id": "d99edd38",
   "metadata": {},
   "outputs": [
    {
     "data": {
      "image/png": "[encoded data removed]",
      "text/plain": [
       "<Figure size 900x400 with 1 Axes>"
      ]
     },
     "metadata": {},
     "output_type": "display_data"
    },
    {
     "data": {
      "application/vnd.microsoft.datawrangler.viewer.v0+json": {
       "columns": [
        {
         "name": "index",
         "rawType": "object",
         "type": "string"
        },
        {
         "name": "rmse",
         "rawType": "float64",
         "type": "float"
        },
        {
         "name": "mae",
         "rawType": "float64",
         "type": "float"
        },
        {
         "name": "smape",
         "rawType": "float64",
         "type": "float"
        }
       ],
       "ref": "27c636ac-dcc8-494b-a27c-2b3864b3a148",
       "rows": [
        [
         "count",
         "3.0",
         "3.0",
         "3.0"
        ],
        [
         "mean",
         "9.663215989624286",
         "0.5766176549439103",
         "20.8547610833328"
        ],
        [
         "std",
         "9.022248226581151",
         "0.19880682946492143",
         "0.9429991603319838"
        ],
        [
         "min",
         "1.5420281631077868",
         "0.37696934509162405",
         "20.19341685362266"
        ],
        [
         "25%",
         "4.807335275747959",
         "0.4776403919575512",
         "20.314853512787057"
        ],
        [
         "50%",
         "8.07264238838813",
         "0.5783114388234784",
         "20.436290171951452"
        ],
        [
         "75%",
         "13.723809902882536",
         "0.6764418098700533",
         "21.185433198187866"
        ],
        [
         "max",
         "19.374977417376943",
         "0.7745721809166284",
         "21.934576224424283"
        ]
       ],
       "shape": {
        "columns": 3,
        "rows": 8
       }
      },
      "text/html": [
       "<div>\n",
       "<style scoped>\n",
       "    .dataframe tbody tr th:only-of-type {\n",
       "        vertical-align: middle;\n",
       "    }\n",
       "\n",
       "    .dataframe tbody tr th {\n",
       "        vertical-align: top;\n",
       "    }\n",
       "\n",
       "    .dataframe thead th {\n",
       "        text-align: right;\n",
       "    }\n",
       "</style>\n",
       "<table border=\"1\" class=\"dataframe\">\n",
       "  <thead>\n",
       "    <tr style=\"text-align: right;\">\n",
       "      <th></th>\n",
       "      <th>rmse</th>\n",
       "      <th>mae</th>\n",
       "      <th>smape</th>\n",
       "    </tr>\n",
       "  </thead>\n",
       "  <tbody>\n",
       "    <tr>\n",
       "      <th>count</th>\n",
       "      <td>3.000000</td>\n",
       "      <td>3.000000</td>\n",
       "      <td>3.000000</td>\n",
       "    </tr>\n",
       "    <tr>\n",
       "      <th>mean</th>\n",
       "      <td>9.663216</td>\n",
       "      <td>0.576618</td>\n",
       "      <td>20.854761</td>\n",
       "    </tr>\n",
       "    <tr>\n",
       "      <th>std</th>\n",
       "      <td>9.022248</td>\n",
       "      <td>0.198807</td>\n",
       "      <td>0.942999</td>\n",
       "    </tr>\n",
       "    <tr>\n",
       "      <th>min</th>\n",
       "      <td>1.542028</td>\n",
       "      <td>0.376969</td>\n",
       "      <td>20.193417</td>\n",
       "    </tr>\n",
       "    <tr>\n",
       "      <th>25%</th>\n",
       "      <td>4.807335</td>\n",
       "      <td>0.477640</td>\n",
       "      <td>20.314854</td>\n",
       "    </tr>\n",
       "    <tr>\n",
       "      <th>50%</th>\n",
       "      <td>8.072642</td>\n",
       "      <td>0.578311</td>\n",
       "      <td>20.436290</td>\n",
       "    </tr>\n",
       "    <tr>\n",
       "      <th>75%</th>\n",
       "      <td>13.723810</td>\n",
       "      <td>0.676442</td>\n",
       "      <td>21.185433</td>\n",
       "    </tr>\n",
       "    <tr>\n",
       "      <th>max</th>\n",
       "      <td>19.374977</td>\n",
       "      <td>0.774572</td>\n",
       "      <td>21.934576</td>\n",
       "    </tr>\n",
       "  </tbody>\n",
       "</table>\n",
       "</div>"
      ],
      "text/plain": [
       "            rmse       mae      smape\n",
       "count   3.000000  3.000000   3.000000\n",
       "mean    9.663216  0.576618  20.854761\n",
       "std     9.022248  0.198807   0.942999\n",
       "min     1.542028  0.376969  20.193417\n",
       "25%     4.807335  0.477640  20.314854\n",
       "50%     8.072642  0.578311  20.436290\n",
       "75%    13.723810  0.676442  21.185433\n",
       "max    19.374977  0.774572  21.934576"
      ]
     },
     "execution_count": 9,
     "metadata": {},
     "output_type": "execute_result"
    }
   ],
   "source": [
    "ax = cv.set_index(\"fold\")[[\"rmse\",\"mae\",\"smape\"]].plot(kind=\"bar\", figsize=(9,4), rot=0, title=\"Walk‑Forward CV Metrics (LightGBM)\")\n",
    "plt.tight_layout(); plt.show()\n",
    "cv.describe()[[\"rmse\",\"mae\",\"smape\"]]"
   ]
  },
  {
   "cell_type": "code",
   "execution_count": 10,
   "id": "c9acfac6",
   "metadata": {},
   "outputs": [
    {
     "data": {
      "text/plain": [
       "'model_runs written ✅'"
      ]
     },
     "execution_count": 10,
     "metadata": {},
     "output_type": "execute_result"
    }
   ],
   "source": [
    "from google.cloud import bigquery\n",
    "\n",
    "mr_table = f\"{BQ_PROJECT}.{BQ_DATASET}.model_runs\"\n",
    "mr_schema = [\n",
    "    bigquery.SchemaField(\"run_id\",\"STRING\"), bigquery.SchemaField(\"model\",\"STRING\"),\n",
    "    bigquery.SchemaField(\"fold\",\"INT64\"),\n",
    "    bigquery.SchemaField(\"train_end_date\",\"DATE\"), bigquery.SchemaField(\"horizon_days\",\"INT64\"),\n",
    "    bigquery.SchemaField(\"rmse\",\"FLOAT64\"), bigquery.SchemaField(\"mae\",\"FLOAT64\"),\n",
    "    bigquery.SchemaField(\"smape\",\"FLOAT64\"), bigquery.SchemaField(\"r2\",\"FLOAT64\"),\n",
    "    bigquery.SchemaField(\"fit_sec\",\"FLOAT64\"), bigquery.SchemaField(\"predict_sec\",\"FLOAT64\"),\n",
    "    bigquery.SchemaField(\"params_json\",\"STRING\"), bigquery.SchemaField(\"created_at\",\"TIMESTAMP\"),\n",
    "]\n",
    "\n",
    "# Create table if missing\n",
    "try:\n",
    "    client.get_table(mr_table)\n",
    "except Exception:\n",
    "    client.create_table(bigquery.Table(mr_table, schema=mr_schema))\n",
    "\n",
    "# --- Enforce BQ-friendly dtypes ---\n",
    "cv_out = cv.copy()\n",
    "cv_out[\"train_end_date\"] = pd.to_datetime(cv_out[\"train_end_date\"]).dt.date         # DATE\n",
    "cv_out[\"created_at\"] = pd.to_datetime(cv_out[\"created_at\"], utc=True)               # TIMESTAMP\n",
    "\n",
    "for c in [\"fold\", \"horizon_days\"]:\n",
    "    cv_out[c] = pd.to_numeric(cv_out[c], errors=\"coerce\").astype(\"Int64\").astype(\"int64\")\n",
    "\n",
    "for c in [\"rmse\",\"mae\",\"smape\",\"r2\",\"fit_sec\",\"predict_sec\"]:\n",
    "    cv_out[c] = pd.to_numeric(cv_out[c], errors=\"coerce\")\n",
    "\n",
    "job_config = bigquery.LoadJobConfig(write_disposition=\"WRITE_APPEND\")\n",
    "client.load_table_from_dataframe(cv_out, mr_table, job_config=job_config).result()\n",
    "\"model_runs written ✅\"\n",
    "\n",
    "\"model_runs written ✅\"\n"
   ]
  },
  {
   "cell_type": "code",
   "execution_count": 12,
   "id": "97976267",
   "metadata": {},
   "outputs": [
    {
     "name": "stdout",
     "output_type": "stream",
     "text": [
      "[LightGBM] [Info] Auto-choosing row-wise multi-threading, the overhead of testing was 0.059657 seconds.\n",
      "You can set `force_row_wise=true` to remove the overhead.\n",
      "And if memory is not enough, you can set `force_col_wise=true`.\n",
      "[LightGBM] [Info] Total Bins 1376\n",
      "[LightGBM] [Info] Number of data points in the train set: 517621, number of used features: 12\n",
      "[LightGBM] [Info] Start training from score 1.565858\n"
     ]
    },
    {
     "data": {
      "text/plain": [
       "'forecasts written ✅'"
      ]
     },
     "execution_count": 12,
     "metadata": {},
     "output_type": "execute_result"
    }
   ],
   "source": [
    "\n",
    "\n",
    "from datetime import timezone\n",
    "from google.cloud import bigquery\n",
    "\n",
    "last_date = fs[\"date\"].max()\n",
    "last_start = pd.Timestamp(year=last_date.year, month=last_date.month, day=1)\n",
    "\n",
    "train = fs[fs[\"date\"] < last_start].dropna(subset=FEATURES+[TARGET])\n",
    "test  = fs[(fs[\"date\"] >= last_start) & (fs[\"date\"] <= last_date)].dropna(subset=FEATURES)\n",
    "\n",
    "mdl_final = lgb.LGBMRegressor(**PARAMS).fit(train[FEATURES], train[TARGET])\n",
    "yhat = mdl_final.predict(test[FEATURES]).astype(float)\n",
    "\n",
    "# Simple uncertainty from train residuals\n",
    "resid_std = float(np.std(train[TARGET] - mdl_final.predict(train[FEATURES])))\n",
    "\n",
    "forecasts = test[[\"date\",\"shop_id\",\"item_id\"]].copy()\n",
    "forecasts[\"run_id\"] = RUN_ID\n",
    "forecasts[\"model\"] = \"lightgbm\"\n",
    "forecasts[\"yhat\"] = yhat\n",
    "forecasts[\"yhat_lower\"] = forecasts[\"yhat\"] - 1.96 * resid_std\n",
    "forecasts[\"yhat_upper\"] = forecasts[\"yhat\"] + 1.96 * resid_std\n",
    "forecasts[\"created_at\"] = pd.Timestamp.now(tz=timezone.utc)   # <-- FIX HERE\n",
    "\n",
    "# --- Enforce BQ-friendly dtypes ---\n",
    "fc_out = forecasts.copy()\n",
    "fc_out[\"date\"] = pd.to_datetime(fc_out[\"date\"]).dt.date         # DATE\n",
    "fc_out[\"created_at\"] = pd.to_datetime(fc_out[\"created_at\"], utc=True)  # TIMESTAMP\n",
    "\n",
    "for c in [\"shop_id\",\"item_id\"]:\n",
    "    fc_out[c] = pd.to_numeric(fc_out[c], errors=\"coerce\").astype(\"Int64\").astype(\"int64\")\n",
    "\n",
    "for c in [\"yhat\",\"yhat_lower\",\"yhat_upper\"]:\n",
    "    fc_out[c] = pd.to_numeric(fc_out[c], errors=\"coerce\")\n",
    "\n",
    "# Write to BigQuery\n",
    "fc_table = f\"{BQ_PROJECT}.{BQ_DATASET}.forecasts\"\n",
    "fc_schema = [\n",
    "    bigquery.SchemaField(\"run_id\",\"STRING\"), bigquery.SchemaField(\"model\",\"STRING\"),\n",
    "    bigquery.SchemaField(\"date\",\"DATE\"),\n",
    "    bigquery.SchemaField(\"shop_id\",\"INT64\"), bigquery.SchemaField(\"item_id\",\"INT64\"),\n",
    "    bigquery.SchemaField(\"yhat\",\"FLOAT64\"), bigquery.SchemaField(\"yhat_lower\",\"FLOAT64\"),\n",
    "    bigquery.SchemaField(\"yhat_upper\",\"FLOAT64\"),\n",
    "    bigquery.SchemaField(\"created_at\",\"TIMESTAMP\"),\n",
    "]\n",
    "\n",
    "try:\n",
    "    client.get_table(fc_table)\n",
    "except Exception:\n",
    "    client.create_table(bigquery.Table(fc_table, schema=fc_schema))\n",
    "\n",
    "client.load_table_from_dataframe(\n",
    "    fc_out, fc_table, job_config=bigquery.LoadJobConfig(write_disposition=\"WRITE_APPEND\")\n",
    ").result()\n",
    "\n",
    "\"forecasts written ✅\"\n",
    "\n"
   ]
  }
 ],
 "metadata": {
  "kernelspec": {
   "display_name": ".venv",
   "language": "python",
   "name": "python3"
  },
  "language_info": {
   "codemirror_mode": {
    "name": "ipython",
    "version": 3
   },
   "file_extension": ".py",
   "mimetype": "text/x-python",
   "name": "python",
   "nbconvert_exporter": "python",
   "pygments_lexer": "ipython3",
   "version": "3.10.12"
  }
 },
 "nbformat": 4,
 "nbformat_minor": 5
}
